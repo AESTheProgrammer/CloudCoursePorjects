{
 "cells": [
  {
   "cell_type": "markdown",
   "id": "aa466307",
   "metadata": {},
   "source": [
    "<div align=\"right\" dir=\"auto\">\n",
    "   \n",
    "#  دیتاست اول(COVID)\n",
    " </div>\n",
    "  "
   ]
  },
  {
   "cell_type": "markdown",
   "id": "af5ee2b1",
   "metadata": {},
   "source": [
    "\n",
    "<div align=\"right\" dir=\"auto\">\n",
    "   \n",
    "##  اتصال به کلاستر اسپارک و هدوپ \n",
    "\n",
    "    در این قسمت از تمرین باید به عنوان درایور یک سسشن  به کلاستر اسپارک بسازیم.\n",
    " </div>\n",
    "  \n",
    "* **appName**: application name displayed at the Spark Master Web UI;\n",
    "* **master**: Spark Master URL, same used by Spark Workers;\n",
    "* **spark.executor.memory**: must be less than or equals to docker compose SPARK_WORKER_MEMORY config."
   ]
  },
  {
   "cell_type": "code",
   "execution_count": 5,
   "id": "8d9dc7fd",
   "metadata": {},
   "outputs": [
    {
     "name": "stdout",
     "output_type": "stream",
     "text": [
      "Requirement already satisfied: pyspark==3.1.1 in /usr/local/lib/python3.8/dist-packages (3.1.1)\n",
      "Requirement already satisfied: py4j==0.10.9 in /usr/local/lib/python3.8/dist-packages (from pyspark==3.1.1) (0.10.9)\n",
      "\u001b[33mWARNING: Running pip as the 'root' user can result in broken permissions and conflicting behaviour with the system package manager. It is recommended to use a virtual environment instead: https://pip.pypa.io/warnings/venv\u001b[0m\u001b[33m\n",
      "\u001b[0m3.1.1\n"
     ]
    }
   ],
   "source": [
    "!pip install pyspark==3.1.1\n",
    "import matplotlib.pyplot as plt\n",
    "import pyspark\n",
    "from pyspark.sql import SparkSession\n",
    "import os\n",
    "import pandas\n",
    "from pyspark.sql.types import *\n",
    "print(pyspark.__version__)\n"
   ]
  },
  {
   "cell_type": "code",
   "execution_count": 4,
   "id": "56258cdb",
   "metadata": {},
   "outputs": [
    {
     "ename": "NameError",
     "evalue": "name 'spark' is not defined",
     "output_type": "error",
     "traceback": [
      "\u001b[0;31m---------------------------------------------------------------------------\u001b[0m",
      "\u001b[0;31mNameError\u001b[0m                                 Traceback (most recent call last)",
      "Cell \u001b[0;32mIn[4], line 1\u001b[0m\n\u001b[0;32m----> 1\u001b[0m \u001b[43mspark\u001b[49m\u001b[38;5;241m.\u001b[39mstop()\n",
      "\u001b[0;31mNameError\u001b[0m: name 'spark' is not defined"
     ]
    }
   ],
   "source": [
    "spark.stop()"
   ]
  },
  {
   "cell_type": "code",
   "execution_count": 13,
   "id": "2a9dbf73",
   "metadata": {},
   "outputs": [
    {
     "name": "stdout",
     "output_type": "stream",
     "text": [
      "3.1.1\n"
     ]
    },
    {
     "data": {
      "text/html": [
       "\n",
       "            <div>\n",
       "                <p><b>SparkSession - in-memory</b></p>\n",
       "                \n",
       "        <div>\n",
       "            <p><b>SparkContext</b></p>\n",
       "\n",
       "            <p><a href=\"http://267ff4c7069e:4040\">Spark UI</a></p>\n",
       "\n",
       "            <dl>\n",
       "              <dt>Version</dt>\n",
       "                <dd><code>v3.1.1</code></dd>\n",
       "              <dt>Master</dt>\n",
       "                <dd><code>spark://spark-master:7077</code></dd>\n",
       "              <dt>AppName</dt>\n",
       "                <dd><code>spark-notebook-1</code></dd>\n",
       "            </dl>\n",
       "        </div>\n",
       "        \n",
       "            </div>\n",
       "        "
      ],
      "text/plain": [
       "<pyspark.sql.session.SparkSession at 0x7f73599cc700>"
      ]
     },
     "execution_count": 13,
     "metadata": {},
     "output_type": "execute_result"
    }
   ],
   "source": [
    "print(pyspark.__version__)\n",
    "\n",
    "spark = SparkSession.builder.appName('spark-notebook-1').master('spark://spark-master:7077').config('spark.executor.memmory', '2G').getOrCreate()\n",
    "spark"
   ]
  },
  {
   "cell_type": "markdown",
   "id": "dd5920c3",
   "metadata": {},
   "source": [
    "\n",
    "<div align=\"right\" dir=\"auto\">\n",
    "   \n",
    "#  خواندن داده \n",
    "\n",
    "    :در اسپارک ما ساختارهای مختلفی برای کار با داده و پخش شدن آن‌ها در شبکه داریم که به ۳ دسته تقسیم بندی میشوند \n",
    "+ RDD\n",
    "+ Dataset\n",
    "+ DataFrame\n",
    "    \n",
    "    \n",
    "     برای مطالعه بیشتر به لینک زیر مراجعه کنید:\n",
    "[rdd-vs-dataframe-vs-dataset](https://phoenixnap.com/kb/rdd-vs-dataframe-vs-dataset)\n",
    "\n",
    "    ما در درس با ساختار RDD آشنا شدیم حال در این تمرین میخواهیم با ساختار Dataframe آشنا شویم و به کمک آن دیتا را از روی HDFS بخوانیم و روی آن فایل‌ها پردازش انجام دهیم\n",
    " \n",
    " </div>\n",
    "  \n",
    "    "
   ]
  },
  {
   "cell_type": "code",
   "execution_count": 14,
   "id": "f99498e2",
   "metadata": {},
   "outputs": [
    {
     "name": "stdout",
     "output_type": "stream",
     "text": [
      "Loading data from csv ./data/covid.csv\n",
      "Loading data from csv ./data/.ipynb_checkpoints/covid-checkpoint.csv\n"
     ]
    },
    {
     "data": {
      "text/html": [
       "<div>\n",
       "<style scoped>\n",
       "    .dataframe tbody tr th:only-of-type {\n",
       "        vertical-align: middle;\n",
       "    }\n",
       "\n",
       "    .dataframe tbody tr th {\n",
       "        vertical-align: top;\n",
       "    }\n",
       "\n",
       "    .dataframe thead th {\n",
       "        text-align: right;\n",
       "    }\n",
       "</style>\n",
       "<table border=\"1\" class=\"dataframe\">\n",
       "  <thead>\n",
       "    <tr style=\"text-align: right;\">\n",
       "      <th></th>\n",
       "      <th>dateRep</th>\n",
       "      <th>day</th>\n",
       "      <th>month</th>\n",
       "      <th>year</th>\n",
       "      <th>cases</th>\n",
       "      <th>deaths</th>\n",
       "      <th>countriesAndTerritories</th>\n",
       "      <th>geoId</th>\n",
       "      <th>countryterritoryCode</th>\n",
       "      <th>popData2019</th>\n",
       "      <th>continentExp</th>\n",
       "      <th>Cumulative_number_for_14_days_of_COVID-19_cases_per_100000</th>\n",
       "    </tr>\n",
       "  </thead>\n",
       "  <tbody>\n",
       "    <tr>\n",
       "      <th>0</th>\n",
       "      <td>14/12/2020</td>\n",
       "      <td>14</td>\n",
       "      <td>12</td>\n",
       "      <td>2020</td>\n",
       "      <td>746</td>\n",
       "      <td>6</td>\n",
       "      <td>Afghanistan</td>\n",
       "      <td>AF</td>\n",
       "      <td>AFG</td>\n",
       "      <td>38041757.0</td>\n",
       "      <td>Asia</td>\n",
       "      <td>9.013779</td>\n",
       "    </tr>\n",
       "    <tr>\n",
       "      <th>1</th>\n",
       "      <td>13/12/2020</td>\n",
       "      <td>13</td>\n",
       "      <td>12</td>\n",
       "      <td>2020</td>\n",
       "      <td>298</td>\n",
       "      <td>9</td>\n",
       "      <td>Afghanistan</td>\n",
       "      <td>AF</td>\n",
       "      <td>AFG</td>\n",
       "      <td>38041757.0</td>\n",
       "      <td>Asia</td>\n",
       "      <td>7.052776</td>\n",
       "    </tr>\n",
       "    <tr>\n",
       "      <th>2</th>\n",
       "      <td>12/12/2020</td>\n",
       "      <td>12</td>\n",
       "      <td>12</td>\n",
       "      <td>2020</td>\n",
       "      <td>113</td>\n",
       "      <td>11</td>\n",
       "      <td>Afghanistan</td>\n",
       "      <td>AF</td>\n",
       "      <td>AFG</td>\n",
       "      <td>38041757.0</td>\n",
       "      <td>Asia</td>\n",
       "      <td>6.868768</td>\n",
       "    </tr>\n",
       "    <tr>\n",
       "      <th>3</th>\n",
       "      <td>11/12/2020</td>\n",
       "      <td>11</td>\n",
       "      <td>12</td>\n",
       "      <td>2020</td>\n",
       "      <td>63</td>\n",
       "      <td>10</td>\n",
       "      <td>Afghanistan</td>\n",
       "      <td>AF</td>\n",
       "      <td>AFG</td>\n",
       "      <td>38041757.0</td>\n",
       "      <td>Asia</td>\n",
       "      <td>7.134266</td>\n",
       "    </tr>\n",
       "    <tr>\n",
       "      <th>4</th>\n",
       "      <td>10/12/2020</td>\n",
       "      <td>10</td>\n",
       "      <td>12</td>\n",
       "      <td>2020</td>\n",
       "      <td>202</td>\n",
       "      <td>16</td>\n",
       "      <td>Afghanistan</td>\n",
       "      <td>AF</td>\n",
       "      <td>AFG</td>\n",
       "      <td>38041757.0</td>\n",
       "      <td>Asia</td>\n",
       "      <td>6.968658</td>\n",
       "    </tr>\n",
       "    <tr>\n",
       "      <th>...</th>\n",
       "      <td>...</td>\n",
       "      <td>...</td>\n",
       "      <td>...</td>\n",
       "      <td>...</td>\n",
       "      <td>...</td>\n",
       "      <td>...</td>\n",
       "      <td>...</td>\n",
       "      <td>...</td>\n",
       "      <td>...</td>\n",
       "      <td>...</td>\n",
       "      <td>...</td>\n",
       "      <td>...</td>\n",
       "    </tr>\n",
       "    <tr>\n",
       "      <th>61895</th>\n",
       "      <td>25/03/2020</td>\n",
       "      <td>25</td>\n",
       "      <td>3</td>\n",
       "      <td>2020</td>\n",
       "      <td>0</td>\n",
       "      <td>0</td>\n",
       "      <td>Zimbabwe</td>\n",
       "      <td>ZW</td>\n",
       "      <td>ZWE</td>\n",
       "      <td>14645473.0</td>\n",
       "      <td>Africa</td>\n",
       "      <td>NaN</td>\n",
       "    </tr>\n",
       "    <tr>\n",
       "      <th>61896</th>\n",
       "      <td>24/03/2020</td>\n",
       "      <td>24</td>\n",
       "      <td>3</td>\n",
       "      <td>2020</td>\n",
       "      <td>0</td>\n",
       "      <td>1</td>\n",
       "      <td>Zimbabwe</td>\n",
       "      <td>ZW</td>\n",
       "      <td>ZWE</td>\n",
       "      <td>14645473.0</td>\n",
       "      <td>Africa</td>\n",
       "      <td>NaN</td>\n",
       "    </tr>\n",
       "    <tr>\n",
       "      <th>61897</th>\n",
       "      <td>23/03/2020</td>\n",
       "      <td>23</td>\n",
       "      <td>3</td>\n",
       "      <td>2020</td>\n",
       "      <td>0</td>\n",
       "      <td>0</td>\n",
       "      <td>Zimbabwe</td>\n",
       "      <td>ZW</td>\n",
       "      <td>ZWE</td>\n",
       "      <td>14645473.0</td>\n",
       "      <td>Africa</td>\n",
       "      <td>NaN</td>\n",
       "    </tr>\n",
       "    <tr>\n",
       "      <th>61898</th>\n",
       "      <td>22/03/2020</td>\n",
       "      <td>22</td>\n",
       "      <td>3</td>\n",
       "      <td>2020</td>\n",
       "      <td>1</td>\n",
       "      <td>0</td>\n",
       "      <td>Zimbabwe</td>\n",
       "      <td>ZW</td>\n",
       "      <td>ZWE</td>\n",
       "      <td>14645473.0</td>\n",
       "      <td>Africa</td>\n",
       "      <td>NaN</td>\n",
       "    </tr>\n",
       "    <tr>\n",
       "      <th>61899</th>\n",
       "      <td>21/03/2020</td>\n",
       "      <td>21</td>\n",
       "      <td>3</td>\n",
       "      <td>2020</td>\n",
       "      <td>1</td>\n",
       "      <td>0</td>\n",
       "      <td>Zimbabwe</td>\n",
       "      <td>ZW</td>\n",
       "      <td>ZWE</td>\n",
       "      <td>14645473.0</td>\n",
       "      <td>Africa</td>\n",
       "      <td>NaN</td>\n",
       "    </tr>\n",
       "  </tbody>\n",
       "</table>\n",
       "<p>61900 rows × 12 columns</p>\n",
       "</div>"
      ],
      "text/plain": [
       "          dateRep  day  month  year  cases  deaths countriesAndTerritories  \\\n",
       "0      14/12/2020   14     12  2020    746       6             Afghanistan   \n",
       "1      13/12/2020   13     12  2020    298       9             Afghanistan   \n",
       "2      12/12/2020   12     12  2020    113      11             Afghanistan   \n",
       "3      11/12/2020   11     12  2020     63      10             Afghanistan   \n",
       "4      10/12/2020   10     12  2020    202      16             Afghanistan   \n",
       "...           ...  ...    ...   ...    ...     ...                     ...   \n",
       "61895  25/03/2020   25      3  2020      0       0                Zimbabwe   \n",
       "61896  24/03/2020   24      3  2020      0       1                Zimbabwe   \n",
       "61897  23/03/2020   23      3  2020      0       0                Zimbabwe   \n",
       "61898  22/03/2020   22      3  2020      1       0                Zimbabwe   \n",
       "61899  21/03/2020   21      3  2020      1       0                Zimbabwe   \n",
       "\n",
       "      geoId countryterritoryCode  popData2019 continentExp  \\\n",
       "0        AF                  AFG   38041757.0         Asia   \n",
       "1        AF                  AFG   38041757.0         Asia   \n",
       "2        AF                  AFG   38041757.0         Asia   \n",
       "3        AF                  AFG   38041757.0         Asia   \n",
       "4        AF                  AFG   38041757.0         Asia   \n",
       "...     ...                  ...          ...          ...   \n",
       "61895    ZW                  ZWE   14645473.0       Africa   \n",
       "61896    ZW                  ZWE   14645473.0       Africa   \n",
       "61897    ZW                  ZWE   14645473.0       Africa   \n",
       "61898    ZW                  ZWE   14645473.0       Africa   \n",
       "61899    ZW                  ZWE   14645473.0       Africa   \n",
       "\n",
       "       Cumulative_number_for_14_days_of_COVID-19_cases_per_100000  \n",
       "0                                               9.013779           \n",
       "1                                               7.052776           \n",
       "2                                               6.868768           \n",
       "3                                               7.134266           \n",
       "4                                               6.968658           \n",
       "...                                                  ...           \n",
       "61895                                                NaN           \n",
       "61896                                                NaN           \n",
       "61897                                                NaN           \n",
       "61898                                                NaN           \n",
       "61899                                                NaN           \n",
       "\n",
       "[61900 rows x 12 columns]"
      ]
     },
     "execution_count": 14,
     "metadata": {},
     "output_type": "execute_result"
    }
   ],
   "source": [
    "# The data from covid.csv will be loaded from a local file path\n",
    "for path, subdirs, files in os.walk('./data/'):\n",
    "    for name in files:\n",
    "        if \"covid\" in name:\n",
    "            csvName = name\n",
    "            csvPath = os.path.join(path, name)\n",
    "            print(\"Loading data from csv {}\".format(csvPath))\n",
    "            covidDfPandas = pandas.read_csv(csvPath)\n",
    "covidDfPandas"
   ]
  },
  {
   "cell_type": "code",
   "execution_count": 15,
   "id": "9b6e8bb2",
   "metadata": {},
   "outputs": [],
   "source": [
    "# Structure of data in the DataFrame\n",
    "schema = StructType([\n",
    "    StructField(\"dateRep\", StringType(), True),\n",
    "    StructField(\"day\", IntegerType(), True),\n",
    "    StructField(\"month\", IntegerType(), True),\n",
    "    StructField(\"year\", IntegerType(), True),\n",
    "    StructField(\"cases\", IntegerType(), True),\n",
    "    StructField(\"deaths\", IntegerType(), True),\n",
    "    StructField(\"countriesAndTerritories\", StringType(), True),\n",
    "    StructField(\"geoId\", StringType(), True),\n",
    "    StructField(\"countryterritoryCode\", StringType(), True),\n",
    "    StructField(\"popData2019\", FloatType(), True),\n",
    "    StructField(\"continentExp\", StringType(), True),\n",
    "    StructField(\"Cumulative_number_for_14_days_of_COVID-19_cases_per_100000\", DoubleType(), True),\n",
    "])"
   ]
  },
  {
   "cell_type": "markdown",
   "id": "9301d1cf",
   "metadata": {},
   "source": [
    "\n",
    "<div align=\"right\" dir=\"auto\">\n",
    "یک DataFrame از Pandas را به یک DataFrame از Spark تبدیل کنید و سپس طرح ساختاری و برخی از داده‌ها را نمایش دهید.\n",
    " </div>\n",
    "  \n",
    "    \n",
    "\n",
    "\n"
   ]
  },
  {
   "cell_type": "code",
   "execution_count": 16,
   "id": "5fdc1ad2",
   "metadata": {},
   "outputs": [
    {
     "name": "stdout",
     "output_type": "stream",
     "text": [
      "root\n",
      " |-- dateRep: string (nullable = true)\n",
      " |-- day: integer (nullable = true)\n",
      " |-- month: integer (nullable = true)\n",
      " |-- year: integer (nullable = true)\n",
      " |-- cases: integer (nullable = true)\n",
      " |-- deaths: integer (nullable = true)\n",
      " |-- countriesAndTerritories: string (nullable = true)\n",
      " |-- geoId: string (nullable = true)\n",
      " |-- countryterritoryCode: string (nullable = true)\n",
      " |-- popData2019: float (nullable = true)\n",
      " |-- continentExp: string (nullable = true)\n",
      " |-- Cumulative_number_for_14_days_of_COVID-19_cases_per_100000: double (nullable = true)\n",
      "\n"
     ]
    },
    {
     "name": "stderr",
     "output_type": "stream",
     "text": [
      "2024-01-13 14:27:43,130 WARN scheduler.TaskSetManager: Stage 7 contains a task of very large size (1650 KiB). The maximum recommended task size is 1000 KiB.\n"
     ]
    },
    {
     "name": "stdout",
     "output_type": "stream",
     "text": [
      "+----------+---+-----+----+-----+------+-----------------------+-----+--------------------+-----------+------------+----------------------------------------------------------+\n",
      "|   dateRep|day|month|year|cases|deaths|countriesAndTerritories|geoId|countryterritoryCode|popData2019|continentExp|Cumulative_number_for_14_days_of_COVID-19_cases_per_100000|\n",
      "+----------+---+-----+----+-----+------+-----------------------+-----+--------------------+-----------+------------+----------------------------------------------------------+\n",
      "|14/12/2020| 14|   12|2020|  746|     6|            Afghanistan|   AF|                 AFG|3.8041756E7|        Asia|                                                9.01377925|\n",
      "|13/12/2020| 13|   12|2020|  298|     9|            Afghanistan|   AF|                 AFG|3.8041756E7|        Asia|                                                7.05277624|\n",
      "|12/12/2020| 12|   12|2020|  113|    11|            Afghanistan|   AF|                 AFG|3.8041756E7|        Asia|                                                6.86876792|\n",
      "|11/12/2020| 11|   12|2020|   63|    10|            Afghanistan|   AF|                 AFG|3.8041756E7|        Asia|                                                7.13426564|\n",
      "|10/12/2020| 10|   12|2020|  202|    16|            Afghanistan|   AF|                 AFG|3.8041756E7|        Asia|                                                6.96865815|\n",
      "|09/12/2020|  9|   12|2020|  135|    13|            Afghanistan|   AF|                 AFG|3.8041756E7|        Asia|                                                6.96340077|\n",
      "|08/12/2020|  8|   12|2020|  200|     6|            Afghanistan|   AF|                 AFG|3.8041756E7|        Asia|                                                7.09483529|\n",
      "|07/12/2020|  7|   12|2020|  210|    26|            Afghanistan|   AF|                 AFG|3.8041756E7|        Asia|                                                7.21575505|\n",
      "|06/12/2020|  6|   12|2020|  234|    10|            Afghanistan|   AF|                 AFG|3.8041756E7|        Asia|                                                7.32616004|\n",
      "|05/12/2020|  5|   12|2020|  235|    18|            Afghanistan|   AF|                 AFG|3.8041756E7|        Asia|                                                7.11586481|\n",
      "|04/12/2020|  4|   12|2020|  119|     5|            Afghanistan|   AF|                 AFG|3.8041756E7|        Asia|                                                7.10797874|\n",
      "|03/12/2020|  3|   12|2020|  202|    19|            Afghanistan|   AF|                 AFG|3.8041756E7|        Asia|                                                7.53645527|\n",
      "|02/12/2020|  2|   12|2020|  400|    48|            Afghanistan|   AF|                 AFG|3.8041756E7|        Asia|                                                7.00545982|\n",
      "|01/12/2020|  1|   12|2020|  272|    11|            Afghanistan|   AF|                 AFG|3.8041756E7|        Asia|                                                6.96077208|\n",
      "|30/11/2020| 30|   11|2020|    0|     0|            Afghanistan|   AF|                 AFG|3.8041756E7|        Asia|                                                6.41663317|\n",
      "|29/11/2020| 29|   11|2020|  228|    11|            Afghanistan|   AF|                 AFG|3.8041756E7|        Asia|                                                 6.8451097|\n",
      "|28/11/2020| 28|   11|2020|  214|    15|            Afghanistan|   AF|                 AFG|3.8041756E7|        Asia|                                                6.78464983|\n",
      "|27/11/2020| 27|   11|2020|    0|     0|            Afghanistan|   AF|                 AFG|3.8041756E7|        Asia|                                                6.39560365|\n",
      "|26/11/2020| 26|   11|2020|  200|    12|            Afghanistan|   AF|                 AFG|3.8041756E7|        Asia|                                                7.34193218|\n",
      "|25/11/2020| 25|   11|2020|  185|    13|            Afghanistan|   AF|                 AFG|3.8041756E7|        Asia|                                                 7.1999829|\n",
      "+----------+---+-----+----+-----+------+-----------------------+-----+--------------------+-----------+------------+----------------------------------------------------------+\n",
      "only showing top 20 rows\n",
      "\n"
     ]
    }
   ],
   "source": [
    "# Convert Pandas DataFrame to Spark DataFrame with defined schema\n",
    "covidDfSpark = spark.createDataFrame(covidDfPandas.values.tolist(), schema=schema)\n",
    "\n",
    "# Show the DataFrame schema and some data\n",
    "covidDfSpark.printSchema()\n",
    "covidDfSpark.show()"
   ]
  },
  {
   "cell_type": "markdown",
   "id": "00596dc6",
   "metadata": {},
   "source": [
    "\n",
    "<div align=\"right\" dir=\"auto\">\n",
    "   \n",
    "#  اسپارک SQL \n",
    "\n",
    "    مهمترین قابلیت اسپارک این است که می‌تواند با خواندن فایل‌ها به صورت توزیع شده روی آن‌ها پردازش انجام دهد و این پردازش را برنامه ‌نویس میتواند با استفاده از دستورات SQL اعمال کند\n",
    "    در این بخش از شما انتظار می‌رود که به وسیله spark SQL  به اسپارک کوئری  بزنید . \n",
    "    \n",
    "    \n",
    " </div>\n",
    "\n",
    "[pyspark.sql.functions.col](https://spark.apache.org/docs/latest/api/python/reference/pyspark.sql/api/pyspark.sql.functions.col.html)\n",
    "\n",
    "[pyspark.sql.DataFrame.count](https://spark.apache.org/docs/latest/api/python/reference/pyspark.sql/api/pyspark.sql.DataFrame.count.html)\n",
    "\n",
    "[pyspark.sql.DataFrame.filter](https://spark.apache.org/docs/latest/api/python/reference/pyspark.sql/api/pyspark.sql.DataFrame.filter.html)\n",
    "\n",
    "[pyspark.sql.DataFrame.groupBy](https://spark.apache.org/docs/3.1.1/api/python/reference/api/pyspark.sql.DataFrame.groupBy.html)"
   ]
  },
  {
   "cell_type": "markdown",
   "id": "574cede1",
   "metadata": {},
   "source": [
    "<div align=\"right\" dir=\"auto\">\n",
    "برای اینکه بتوانیم روی دیتای لود شده به وسیله تابع  spark.sql\n",
    "    کوئری‌های SQL بزنیم\n",
    "    باید دو دیتاست لود شده را به عنوان table\n",
    "    به spark \n",
    "    معرفی کنیم\n",
    "</div>"
   ]
  },
  {
   "cell_type": "code",
   "execution_count": 17,
   "id": "b9069e1f",
   "metadata": {},
   "outputs": [],
   "source": [
    "covidDfSpark.registerTempTable(\"covid\")"
   ]
  },
  {
   "cell_type": "markdown",
   "id": "7a0c89d6",
   "metadata": {},
   "source": [
    "<div align=\"right\" dir=\"auto\">\n",
    " ده رکورد آخر را نمایش دهید\n",
    "</div>"
   ]
  },
  {
   "cell_type": "code",
   "execution_count": 18,
   "id": "1fa514e2",
   "metadata": {},
   "outputs": [
    {
     "name": "stderr",
     "output_type": "stream",
     "text": [
      "2024-01-13 14:28:57,779 WARN scheduler.TaskSetManager: Stage 8 contains a task of very large size (1687 KiB). The maximum recommended task size is 1000 KiB.\n",
      "2024-01-13 14:28:58,721 WARN scheduler.TaskSetManager: Stage 9 contains a task of very large size (1650 KiB). The maximum recommended task size is 1000 KiB.\n"
     ]
    },
    {
     "name": "stdout",
     "output_type": "stream",
     "text": [
      "+----------+---+-----+----+-----+------+-----------------------+-----+--------------------+------------+------------+----------------------------------------------------------+\n",
      "|   dateRep|day|month|year|cases|deaths|countriesAndTerritories|geoId|countryterritoryCode| popData2019|continentExp|Cumulative_number_for_14_days_of_COVID-19_cases_per_100000|\n",
      "+----------+---+-----+----+-----+------+-----------------------+-----+--------------------+------------+------------+----------------------------------------------------------+\n",
      "|31/12/2019| 31|   12|2019|    0|     0|             Luxembourg|   LU|                 LUX|    613894.0|      Europe|                                                       NaN|\n",
      "|31/12/2019| 31|   12|2019|    0|     0|                 Norway|   NO|                 NOR|   5328212.0|      Europe|                                                       NaN|\n",
      "|31/12/2019| 31|   12|2019|    0|     0|               Malaysia|   MY|                 MYS| 3.1949788E7|        Asia|                                                       NaN|\n",
      "|31/12/2019| 31|   12|2019|    0|     0|                Lebanon|   LB|                 LBN|   6855709.0|        Asia|                                                       NaN|\n",
      "|31/12/2019| 31|   12|2019|    0|     0|                 Mexico|   MX|                 MEX|1.27575528E8|     America|                                                       NaN|\n",
      "|31/12/2019| 31|   12|2019|    0|     0|            Netherlands|   NL|                 NLD| 1.7282164E7|      Europe|                                                       NaN|\n",
      "|31/12/2019| 31|   12|2019|    0|     0|        North_Macedonia|   MK|                 MKD|   2077132.0|      Europe|                                                       NaN|\n",
      "|31/12/2019| 31|   12|2019|    0|     0|            New_Zealand|   NZ|                 NZL|   4783062.0|     Oceania|                                                       NaN|\n",
      "|31/12/2019| 31|   12|2019|    0|     0|              Lithuania|   LT|                 LTU|   2794184.0|      Europe|                                                       NaN|\n",
      "|31/12/2019| 31|   12|2019|    0|     0|                Nigeria|   NG|                 NGA|  2.009636E8|      Africa|                                                       NaN|\n",
      "+----------+---+-----+----+-----+------+-----------------------+-----+--------------------+------------+------------+----------------------------------------------------------+\n",
      "\n"
     ]
    }
   ],
   "source": [
    "# to-do\n",
    "covidDfSpark.tail(10)\n",
    "spark.sql(\"\"\"SELECT * FROM covid ORDER BY dateRep DESC LIMIT 10\"\"\").show()"
   ]
  },
  {
   "cell_type": "markdown",
   "id": "bffc1da3",
   "metadata": {},
   "source": [
    "<div align=\"right\" dir=\"auto\">\n",
    "اسکیما یا ساختار دیتاست ها را نمایش دهید\n",
    "\n",
    "</div>"
   ]
  },
  {
   "cell_type": "code",
   "execution_count": 19,
   "id": "3c7c8e23",
   "metadata": {},
   "outputs": [
    {
     "name": "stdout",
     "output_type": "stream",
     "text": [
      "+--------------------+---------+-------+\n",
      "|            col_name|data_type|comment|\n",
      "+--------------------+---------+-------+\n",
      "|             dateRep|   string|   null|\n",
      "|                 day|      int|   null|\n",
      "|               month|      int|   null|\n",
      "|                year|      int|   null|\n",
      "|               cases|      int|   null|\n",
      "|              deaths|      int|   null|\n",
      "|countriesAndTerri...|   string|   null|\n",
      "|               geoId|   string|   null|\n",
      "|countryterritoryCode|   string|   null|\n",
      "|         popData2019|    float|   null|\n",
      "|        continentExp|   string|   null|\n",
      "|Cumulative_number...|   double|   null|\n",
      "+--------------------+---------+-------+\n",
      "\n"
     ]
    }
   ],
   "source": [
    "# to-do\n",
    "db_name = spark.catalog.currentDatabase()\n",
    "spark.sql(f\"DESCRIBE covid\").show()"
   ]
  },
  {
   "cell_type": "code",
   "execution_count": 20,
   "id": "75fffc57",
   "metadata": {},
   "outputs": [
    {
     "name": "stdout",
     "output_type": "stream",
     "text": [
      "root\n",
      " |-- dateRep: string (nullable = true)\n",
      " |-- day: integer (nullable = true)\n",
      " |-- month: integer (nullable = true)\n",
      " |-- year: integer (nullable = true)\n",
      " |-- cases: integer (nullable = true)\n",
      " |-- deaths: integer (nullable = true)\n",
      " |-- countriesAndTerritories: string (nullable = true)\n",
      " |-- geoId: string (nullable = true)\n",
      " |-- countryterritoryCode: string (nullable = true)\n",
      " |-- popData2019: float (nullable = true)\n",
      " |-- continentExp: string (nullable = true)\n",
      " |-- Cumulative_number_for_14_days_of_COVID-19_cases_per_100000: double (nullable = true)\n",
      "\n"
     ]
    }
   ],
   "source": [
    "covidDfSpark.printSchema()"
   ]
  },
  {
   "cell_type": "markdown",
   "id": "38f7fe3f",
   "metadata": {},
   "source": [
    "<div align=\"right\" dir=\"auto\">\n",
    "داده‌های مربوط به ستون   countryterritoryCode ,deaths را پرینت کنید(۱۰تا) \n",
    "\n",
    "</div>"
   ]
  },
  {
   "cell_type": "code",
   "execution_count": 25,
   "id": "a8dd7495",
   "metadata": {},
   "outputs": [
    {
     "name": "stdout",
     "output_type": "stream",
     "text": [
      "+------+--------------------+\n",
      "|deaths|countryterritoryCode|\n",
      "+------+--------------------+\n",
      "|     1|                 KAZ|\n",
      "|     1|                 KAZ|\n",
      "|     8|                 KAZ|\n",
      "|     0|                 KAZ|\n",
      "|     4|                 KAZ|\n",
      "|     6|                 KAZ|\n",
      "|    68|                 KAZ|\n",
      "|    34|                 KAZ|\n",
      "|     0|                 KAZ|\n",
      "|     0|                 KAZ|\n",
      "+------+--------------------+\n",
      "\n"
     ]
    },
    {
     "name": "stderr",
     "output_type": "stream",
     "text": [
      "2024-01-13 14:30:40,015 WARN scheduler.TaskSetManager: Stage 19 contains a task of very large size (1650 KiB). The maximum recommended task size is 1000 KiB.\n"
     ]
    }
   ],
   "source": [
    "# to-do\n",
    "spark.sql(\"\"\"SELECT deaths, countryterritoryCode FROM covid LIMIT 10\"\"\").show()"
   ]
  },
  {
   "cell_type": "markdown",
   "id": "d96b699c",
   "metadata": {},
   "source": [
    "<div align=\"right\" dir=\"auto\">\n",
    "تعداد کل موارد Covid برابر است با?\n",
    "</div>"
   ]
  },
  {
   "cell_type": "code",
   "execution_count": 26,
   "id": "be813247",
   "metadata": {},
   "outputs": [
    {
     "name": "stdout",
     "output_type": "stream",
     "text": [
      "+-----------+\n",
      "|sum_of_case|\n",
      "+-----------+\n",
      "|   71503614|\n",
      "+-----------+\n",
      "\n"
     ]
    },
    {
     "name": "stderr",
     "output_type": "stream",
     "text": [
      "2024-01-13 14:31:32,094 WARN scheduler.TaskSetManager: Stage 21 contains a task of very large size (1650 KiB). The maximum recommended task size is 1000 KiB.\n"
     ]
    }
   ],
   "source": [
    "# to-do\n",
    "result = spark.sql(\"SELECT SUM(cases) AS sum_of_case FROM covid\").show()\n"
   ]
  },
  {
   "cell_type": "markdown",
   "id": "23d8a01f",
   "metadata": {},
   "source": [
    "<div align=\"right\" dir=\"auto\">\n",
    "مجموع موارد کروناویروس در اکتبر ۲۰۲۰ در بلژیک را به دست آورید.\n",
    "</div>\n",
    "\n"
   ]
  },
  {
   "cell_type": "code",
   "execution_count": 27,
   "id": "7e784d1f",
   "metadata": {},
   "outputs": [
    {
     "name": "stderr",
     "output_type": "stream",
     "text": [
      "2024-01-13 14:31:43,670 WARN scheduler.TaskSetManager: Stage 23 contains a task of very large size (1650 KiB). The maximum recommended task size is 1000 KiB.\n"
     ]
    },
    {
     "name": "stdout",
     "output_type": "stream",
     "text": [
      "+----------+\n",
      "|TotalCases|\n",
      "+----------+\n",
      "|    320023|\n",
      "+----------+\n",
      "\n"
     ]
    }
   ],
   "source": [
    "# to-do\n",
    "result = spark.sql(\"\"\"\n",
    "                    SELECT SUM(cases) AS  TotalCases\n",
    "                    FROM covid\n",
    "                    WHERE countriesAndTerritories = 'Belgium' AND month = 10 AND year = 2020\n",
    "                    \"\"\").show()"
   ]
  },
  {
   "cell_type": "markdown",
   "id": "b16ac98e",
   "metadata": {},
   "source": [
    "\n",
    "<div align=\"right\" dir=\"auto\">\n",
    "جمع تعداد موارد و مرگ‌ها در کشورهای آسیا به دست آورید.\n",
    " \n",
    " </div>\n"
   ]
  },
  {
   "cell_type": "code",
   "execution_count": 28,
   "id": "97eae977",
   "metadata": {},
   "outputs": [
    {
     "name": "stderr",
     "output_type": "stream",
     "text": [
      "2024-01-13 14:32:29,369 WARN scheduler.TaskSetManager: Stage 25 contains a task of very large size (1650 KiB). The maximum recommended task size is 1000 KiB.\n",
      "[Stage 26:==========================================>           (157 + 2) / 200]\r"
     ]
    },
    {
     "name": "stdout",
     "output_type": "stream",
     "text": [
      "+-----------------+----------+-----------+\n",
      "|          country|TotalCases|TotalDeaths|\n",
      "+-----------------+----------+-----------+\n",
      "|      Afghanistan|     49273|       1971|\n",
      "|          Bahrain|     89143|        348|\n",
      "|       Bangladesh|    490533|       7052|\n",
      "|           Bhutan|       438|          0|\n",
      "|Brunei_Darussalam|       152|          3|\n",
      "|         Cambodia|       359|          0|\n",
      "|            China|     92021|       4739|\n",
      "|            India|   9884100|     143355|\n",
      "|        Indonesia|    617820|      18819|\n",
      "|             Iran|   1108269|      52196|\n",
      "|             Iraq|    574634|      12579|\n",
      "|           Israel|    357859|       2999|\n",
      "|            Japan|    179653|       2585|\n",
      "|           Jordan|    259614|       3365|\n",
      "|       Kazakhstan|    186277|       2552|\n",
      "|           Kuwait|    146218|        911|\n",
      "|       Kyrgyzstan|     77674|       1312|\n",
      "|             Laos|        41|          0|\n",
      "|          Lebanon|    146520|       1200|\n",
      "|         Malaysia|     83475|        415|\n",
      "+-----------------+----------+-----------+\n",
      "only showing top 20 rows\n",
      "\n"
     ]
    },
    {
     "name": "stderr",
     "output_type": "stream",
     "text": [
      "                                                                                \r"
     ]
    }
   ],
   "source": [
    "# to-do\n",
    "result = spark.sql(\"\"\"\n",
    "                        SELECT \n",
    "                          countriesAndTerritories as country,\n",
    "                          SUM(cases) AS TotalCases,\n",
    "                          SUM(deaths) AS TotalDeaths\n",
    "                          FROM covid\n",
    "                          WHERE  continentExp = 'Asia'\n",
    "                          GROUP BY countriesAndTerritories\n",
    "                          ORDER BY country\"\"\").show()"
   ]
  },
  {
   "cell_type": "markdown",
   "id": "09243adc",
   "metadata": {},
   "source": [
    "\n",
    "<div align=\"right\" dir=\"auto\">\n",
    "میانگین تعداد موارد و مرگ‌ها در کشورهای آسیا به دست آورید.\n",
    " \n",
    " </div>\n"
   ]
  },
  {
   "cell_type": "code",
   "execution_count": 29,
   "id": "a787d305",
   "metadata": {},
   "outputs": [
    {
     "name": "stderr",
     "output_type": "stream",
     "text": [
      "2024-01-13 14:32:42,602 WARN scheduler.TaskSetManager: Stage 27 contains a task of very large size (1650 KiB). The maximum recommended task size is 1000 KiB.\n",
      "[Stage 28:==============================================>       (173 + 2) / 200]\r"
     ]
    },
    {
     "name": "stdout",
     "output_type": "stream",
     "text": [
      "+-----------------+------------------+--------------------+\n",
      "|          country|  Average_of_Cases|   Average_of_Deaths|\n",
      "+-----------------+------------------+--------------------+\n",
      "|      Afghanistan| 144.9205882352941|   5.797058823529412|\n",
      "|          Bahrain| 255.4240687679083|   0.997134670487106|\n",
      "|       Bangladesh|1783.7563636363636|  25.643636363636364|\n",
      "|           Bhutan|1.5869565217391304|                 0.0|\n",
      "|Brunei_Darussalam|0.5448028673835126|0.010752688172043012|\n",
      "|         Cambodia|1.0527859237536656|                 0.0|\n",
      "|            China|262.91714285714284|               13.54|\n",
      "|            India|28321.203438395416|  410.75931232091693|\n",
      "|        Indonesia|1801.2244897959183|   54.86588921282799|\n",
      "|             Iran| 3166.482857142857|  149.13142857142856|\n",
      "+-----------------+------------------+--------------------+\n",
      "only showing top 10 rows\n",
      "\n"
     ]
    },
    {
     "name": "stderr",
     "output_type": "stream",
     "text": [
      "                                                                                \r"
     ]
    }
   ],
   "source": [
    "# to-do\n",
    "result = spark.sql(\"\"\"\n",
    "                        SELECT \n",
    "                          countriesAndTerritories as country,\n",
    "                          AVG(cases) AS Average_of_Cases,\n",
    "                          AVG(deaths) AS Average_of_Deaths\n",
    "                          FROM covid\n",
    "                          WHERE  continentExp = 'Asia'\n",
    "                          GROUP BY country ORDER BY country\"\"\").show(10)"
   ]
  },
  {
   "cell_type": "markdown",
   "id": "1bd04942",
   "metadata": {},
   "source": [
    "\n",
    "<div align=\"right\" dir=\"auto\">\n",
    "جمع مرگ‌های کووید در اروپا بر اساس تاریخ به دست آورید.\n",
    " \n",
    " </div>"
   ]
  },
  {
   "cell_type": "code",
   "execution_count": 30,
   "id": "204dadfb",
   "metadata": {},
   "outputs": [
    {
     "name": "stderr",
     "output_type": "stream",
     "text": [
      "2024-01-13 14:33:27,590 WARN scheduler.TaskSetManager: Stage 29 contains a task of very large size (1650 KiB). The maximum recommended task size is 1000 KiB.\n",
      "[Stage 30:==========================================>           (158 + 2) / 200]\r"
     ]
    },
    {
     "name": "stdout",
     "output_type": "stream",
     "text": [
      "+----------+-----------+\n",
      "|   dateRep|TotalDeaths|\n",
      "+----------+-----------+\n",
      "|25/11/2020|       6391|\n",
      "|02/12/2020|       6195|\n",
      "|09/12/2020|       6074|\n",
      "|28/11/2020|       6001|\n",
      "|21/11/2020|       5909|\n",
      "|18/11/2020|       5829|\n",
      "|05/12/2020|       5783|\n",
      "|03/12/2020|       5728|\n",
      "|26/11/2020|       5719|\n",
      "|04/12/2020|       5716|\n",
      "+----------+-----------+\n",
      "only showing top 10 rows\n",
      "\n"
     ]
    },
    {
     "name": "stderr",
     "output_type": "stream",
     "text": [
      "                                                                                \r"
     ]
    }
   ],
   "source": [
    "# to-do\n",
    "result = spark.sql(\"\"\"\n",
    "                        SELECT \n",
    "                          dateRep,\n",
    "                          SUM(deaths) AS TotalDeaths\n",
    "                          FROM covid\n",
    "                          WHERE  continentExp = 'Europe'\n",
    "                          GROUP BY dateRep ORDER BY TotalDeaths DESC\"\"\").show(10)"
   ]
  },
  {
   "cell_type": "markdown",
   "id": "d8cadb17",
   "metadata": {},
   "source": [
    "\n",
    "<div align=\"right\" dir=\"auto\">\n",
    "   \n",
    "#  اسپارک toPandas \n",
    "\n",
    "    یکی ار قابلیت‌های اسپارک این است که می‌توان dataframe های آن را به \n",
    "    dataframe های pandas تبدیل کند و از توابع آن از جمله\n",
    "    توابع plot  آن برای رسم نمودار استفاده کرد.\n",
    "    در این قسمت از شما انتظار می‌رود نمودار تعداد جنگ‌ها بر اساس هر گونه را رسم کنید.\n",
    "    \n",
    " </div>\n",
    "  \n",
    "    \n",
    "\n",
    "  \n",
    "[pyspark.sql.DataFrame.toPandas](https://spark.apache.org/docs/latest/api/python/reference/pyspark.sql/api/pyspark.sql.DataFrame.toPandas.html)\n",
    "\n",
    "[pyspark.pandas.DataFrame.plot](https://spark.apache.org/docs/3.2.1/api/python/reference/pyspark.pandas/api/pyspark.pandas.DataFrame.plot.html)\n"
   ]
  },
  {
   "cell_type": "markdown",
   "id": "715d05ca",
   "metadata": {},
   "source": [
    "\n",
    "<div align=\"right\" dir=\"auto\">\n",
    "جمع موارد و مرگ‌ها برای هر قاره را به دست آورید.\n",
    " \n",
    " </div>"
   ]
  },
  {
   "cell_type": "code",
   "execution_count": 31,
   "id": "111ae78f",
   "metadata": {},
   "outputs": [
    {
     "name": "stderr",
     "output_type": "stream",
     "text": [
      "2024-01-13 14:33:51,792 WARN scheduler.TaskSetManager: Stage 31 contains a task of very large size (1650 KiB). The maximum recommended task size is 1000 KiB.\n"
     ]
    },
    {
     "name": "stdout",
     "output_type": "stream",
     "text": [
      "+------------+------+\n",
      "|continentExp| count|\n",
      "+------------+------+\n",
      "|      Europe|479789|\n",
      "|      Africa| 56334|\n",
      "|       Other|     7|\n",
      "|     Oceania|  1154|\n",
      "|        Asia|290129|\n",
      "|     America|785420|\n",
      "+------------+------+\n",
      "\n"
     ]
    },
    {
     "name": "stderr",
     "output_type": "stream",
     "text": [
      "2024-01-13 14:33:52,961 WARN scheduler.TaskSetManager: Stage 41 contains a task of very large size (1650 KiB). The maximum recommended task size is 1000 KiB.\n",
      "                                                                                \r"
     ]
    },
    {
     "data": {
      "text/plain": [
       "<Axes: ylabel='continentExp'>"
      ]
     },
     "execution_count": 31,
     "metadata": {},
     "output_type": "execute_result"
    },
    {
     "data": {
      "image/png": "[encoded data removed]",
      "text/plain": [
       "<Figure size 640x480 with 1 Axes>"
      ]
     },
     "metadata": {},
     "output_type": "display_data"
    }
   ],
   "source": [
    "# to-do\n",
    "\n",
    "result = spark.sql(\"\"\"\n",
    "                        SELECT \n",
    "                          continentExp,\n",
    "                          SUM(deaths) AS count\n",
    "                          FROM covid\n",
    "                          GROUP BY continentExp\"\"\")\n",
    "result.show()\n",
    "pandaDf = result.toPandas()\n",
    "pandaDf.plot.barh(x='continentExp', y='count')"
   ]
  },
  {
   "cell_type": "markdown",
   "id": "8140250f",
   "metadata": {},
   "source": [
    "<div align=\"right\" dir=\"auto\">\n",
    "نمودار مبتلایان در طور زمان را برای کشور ایران را بنویسید. \n",
    "    \n",
    " </div>\n",
    "  "
   ]
  },
  {
   "cell_type": "code",
   "execution_count": 32,
   "id": "6b5356e8",
   "metadata": {},
   "outputs": [
    {
     "name": "stderr",
     "output_type": "stream",
     "text": [
      "2024-01-13 14:35:17,311 WARN scheduler.TaskSetManager: Stage 43 contains a task of very large size (1650 KiB). The maximum recommended task size is 1000 KiB.\n"
     ]
    },
    {
     "name": "stdout",
     "output_type": "stream",
     "text": [
      "+----------+-----------+\n",
      "|   dateRep|total_cases|\n",
      "+----------+-----------+\n",
      "|04/12/2020|      13922|\n",
      "|05/11/2020|       8452|\n",
      "|23/11/2020|      13053|\n",
      "|02/11/2020|       7719|\n",
      "|28/03/2020|       2926|\n",
      "|19/01/2020|          0|\n",
      "|07/03/2020|       1234|\n",
      "|25/02/2020|         18|\n",
      "|04/01/2020|          0|\n",
      "|08/11/2020|       9450|\n",
      "|15/01/2020|          0|\n",
      "|13/02/2020|          0|\n",
      "|18/01/2020|          0|\n",
      "|01/03/2020|        205|\n",
      "|06/01/2020|          0|\n",
      "|17/08/2020|       2133|\n",
      "|05/07/2020|       2449|\n",
      "|24/08/2020|       2113|\n",
      "|04/08/2020|       2598|\n",
      "|07/02/2020|          0|\n",
      "+----------+-----------+\n",
      "only showing top 20 rows\n",
      "\n"
     ]
    },
    {
     "name": "stderr",
     "output_type": "stream",
     "text": [
      "2024-01-13 14:35:17,793 WARN scheduler.TaskSetManager: Stage 49 contains a task of very large size (1650 KiB). The maximum recommended task size is 1000 KiB.\n",
      "                                                                                \r"
     ]
    },
    {
     "data": {
      "text/plain": [
       "<Axes: xlabel='dateRep', ylabel='total_cases'>"
      ]
     },
     "execution_count": 32,
     "metadata": {},
     "output_type": "execute_result"
    },
    {
     "data": {
      "image/png": "[encoded data removed]",
      "text/plain": [
       "<Figure size 640x480 with 1 Axes>"
      ]
     },
     "metadata": {},
     "output_type": "display_data"
    }
   ],
   "source": [
    "# to-do \n",
    "import pandas as pd\n",
    "import pyspark.sql as sparksql\n",
    "result = spark.sql(\"\"\"\n",
    "                        SELECT \n",
    "                          dateRep,\n",
    "                          SUM(cases) AS total_cases\n",
    "                          FROM covid\n",
    "                          WHERE countriesAndTerritories=\"Iran\"\n",
    "                          GROUP BY dateRep\n",
    "                          \"\"\")\n",
    "\n",
    "result.show()\n",
    "pandaDf = result.toPandas()\n",
    "pandaDf.plot.scatter(x='dateRep', y='total_cases')\n"
   ]
  },
  {
   "cell_type": "code",
   "execution_count": 33,
   "id": "1d59e109",
   "metadata": {},
   "outputs": [
    {
     "ename": "NameError",
     "evalue": "name 'iran_cases_2020' is not defined",
     "output_type": "error",
     "traceback": [
      "\u001b[0;31m---------------------------------------------------------------------------\u001b[0m",
      "\u001b[0;31mNameError\u001b[0m                                 Traceback (most recent call last)",
      "Cell \u001b[0;32mIn[33], line 2\u001b[0m\n\u001b[1;32m      1\u001b[0m \u001b[38;5;66;03m# Assuming you have a DataFrame named covidDfSpark\u001b[39;00m\n\u001b[0;32m----> 2\u001b[0m \u001b[43miran_cases_2020\u001b[49m\u001b[38;5;241m.\u001b[39mselect(\u001b[38;5;124m'\u001b[39m\u001b[38;5;124mdate\u001b[39m\u001b[38;5;124m'\u001b[39m)\u001b[38;5;241m.\u001b[39mshow(\u001b[38;5;241m20\u001b[39m)\n",
      "\u001b[0;31mNameError\u001b[0m: name 'iran_cases_2020' is not defined"
     ]
    }
   ],
   "source": [
    "# Assuming you have a DataFrame named covidDfSpark\n",
    "iran_cases_2020.select('date').show(20)"
   ]
  },
  {
   "cell_type": "markdown",
   "id": "53e052ce",
   "metadata": {},
   "source": [
    "\n",
    "<div align=\"right\" dir=\"auto\">\n",
    "   \n",
    "#  اسپارک Shuffle \n",
    "\n",
    "    Spark SQL shuffle مکانیزمی است برای توزیع مجدد یا پارتیشن بندی مجدد داده ها به طوری که داده ها به طور متفاوت در پارتیشن ها گروه بندی می شوند، بر اساس اندازه داده شما ممکن است نیاز باشد تعداد پارتیشن های RDD/DataFrame را با استفاده از اسپارک کاهش یا افزایش دهید.\n",
    "    برای مثال وقتی روی دو dataframe مختلف که روی شبکه توزیع شده اند\n",
    "    دستور join را میزنیم یک عملیات \n",
    "    shuffling انجام میشود\n",
    "    در این قسمت از شما انتظار می‌رود کوئری جوین زیر را نوشته و اجرا کنید همچنین به  صفحه \n",
    "    application master ui\n",
    "    مراجعه کنید و نحوه shuffleing را گزارش کنید . \n",
    "     و همچنین توضیح دهید DAG scheduler  در اسپارک چیست ؟\n",
    " </div>\n",
    "  \n",
    "    \n",
    "\n",
    "  \n",
    "[shuffling in standalone cluster](https://medium.com/@rachit1arora/apache-spark-shuffle-service-there-are-more-than-one-options-c1a8e098230e)\n",
    "\n"
   ]
  },
  {
   "cell_type": "markdown",
   "id": "f7a78f64",
   "metadata": {},
   "source": [
    "\n",
    "\n",
    "<div align=\"right\" dir=\"auto\">\n",
    "از desc در PySpark برای مرتب‌سازی نزولی استفاده  کرده و با استفاده از alias یک self-join روی DataFrame covidDfSpark انجام دهید، سپس با گروه‌بندی بر اساس ستون a.continentExp از داده‌های پیوسته، تعداد وقوع‌ها شمرده شده و نتایج نمایش دهید. \n",
    "</div>\n",
    "\n"
   ]
  },
  {
   "cell_type": "code",
   "execution_count": 34,
   "id": "4b36c93b",
   "metadata": {},
   "outputs": [
    {
     "name": "stderr",
     "output_type": "stream",
     "text": [
      "2024-01-13 14:37:34,379 WARN scheduler.TaskSetManager: Stage 51 contains a task of very large size (1650 KiB). The maximum recommended task size is 1000 KiB.\n",
      "[Stage 51:===========================================>              (3 + 1) / 4]\r"
     ]
    },
    {
     "name": "stdout",
     "output_type": "stream",
     "text": [
      "+------------+-------------+\n",
      "|continentExp|        count|\n",
      "+------------+-------------+\n",
      "|     America|1911942006700|\n",
      "|      Europe|1324660742800|\n",
      "|        Asia|1038808647400|\n",
      "|      Africa| 147311291300|\n",
      "|     Oceania|   3307936000|\n",
      "|       Other|     43082400|\n",
      "+------------+-------------+\n",
      "\n"
     ]
    },
    {
     "name": "stderr",
     "output_type": "stream",
     "text": [
      "                                                                                \r"
     ]
    }
   ],
   "source": [
    "# to -do\n",
    "from pyspark.sql.functions import col\n",
    "result = spark.sql(\"\"\"\n",
    "                        SELECT \n",
    "                          c1.continentExp,\n",
    "                          SUM(c1.cases) AS count\n",
    "                        FROM covid c1, covid c2\n",
    "                        GROUP BY c1.continentExp\n",
    "                          \"\"\")\n",
    "sorted_df = result.sort(col(\"count\").desc())\n",
    "sorted_df.show()"
   ]
  },
  {
   "cell_type": "code",
   "execution_count": 35,
   "id": "6931117a",
   "metadata": {},
   "outputs": [],
   "source": [
    "import time\n",
    "\n",
    "epochNow = int(time.time())"
   ]
  },
  {
   "cell_type": "markdown",
   "id": "269609b9",
   "metadata": {},
   "source": [
    "<div align=\"right\" dir=\"auto\">\n",
    "نوشتن یکDataFrame به عنوان یک فایل parquet در HDFS\n",
    " \n",
    " </div>"
   ]
  },
  {
   "cell_type": "code",
   "execution_count": 36,
   "id": "b9c20b3c",
   "metadata": {},
   "outputs": [
    {
     "name": "stderr",
     "output_type": "stream",
     "text": [
      "2024-01-13 14:42:10,107 WARN scheduler.TaskSetManager: Stage 53 contains a task of very large size (1650 KiB). The maximum recommended task size is 1000 KiB.\n",
      "[Stage 53:>                                                         (0 + 2) / 2]\r"
     ]
    },
    {
     "name": "stdout",
     "output_type": "stream",
     "text": [
      "Covid Dataframe stored in Hadoop.\n"
     ]
    },
    {
     "name": "stderr",
     "output_type": "stream",
     "text": [
      "                                                                                \r"
     ]
    }
   ],
   "source": [
    "covidDfSpark.write.parquet(\"hdfs://namenode:8020/covid/{}_{}.parquet\".format(csvName,epochNow))\n",
    "print(\"Covid Dataframe stored in Hadoop.\")"
   ]
  },
  {
   "cell_type": "code",
   "execution_count": 37,
   "id": "afa150c8",
   "metadata": {},
   "outputs": [
    {
     "name": "stdout",
     "output_type": "stream",
     "text": [
      "Covid Dataframe read from Hadoop : \n",
      "+----------+---+-----+----+-----+------+-----------------------+-----+--------------------+-----------+------------+----------------------------------------------------------+\n",
      "|   dateRep|day|month|year|cases|deaths|countriesAndTerritories|geoId|countryterritoryCode|popData2019|continentExp|Cumulative_number_for_14_days_of_COVID-19_cases_per_100000|\n",
      "+----------+---+-----+----+-----+------+-----------------------+-----+--------------------+-----------+------------+----------------------------------------------------------+\n",
      "|08/09/2020|  8|    9|2020|   80|     1|             Kazakhstan|   KZ|                 KAZ|1.8551428E7|        Asia|                                               36.33682539|\n",
      "|07/09/2020|  7|    9|2020|  199|     1|             Kazakhstan|   KZ|                 KAZ|1.8551428E7|        Asia|                                               35.90559174|\n",
      "|06/09/2020|  6|    9|2020|  896|     8|             Kazakhstan|   KZ|                 KAZ|1.8551428E7|        Asia|                                               36.22901698|\n",
      "|05/09/2020|  5|    9|2020|  104|     0|             Kazakhstan|   KZ|                 KAZ|1.8551428E7|        Asia|                                                36.5740039|\n",
      "|04/09/2020|  4|    9|2020|  570|     4|             Kazakhstan|   KZ|                 KAZ|1.8551428E7|        Asia|                                               40.90790208|\n",
      "|03/09/2020|  3|    9|2020|  659|     6|             Kazakhstan|   KZ|                 KAZ|1.8551428E7|        Asia|                                               43.11258411|\n",
      "|02/09/2020|  2|    9|2020|   99|    68|             Kazakhstan|   KZ|                 KAZ|1.8551428E7|        Asia|                                               45.11782058|\n",
      "|01/09/2020|  1|    9|2020|  923|    34|             Kazakhstan|   KZ|                 KAZ|1.8551428E7|        Asia|                                               51.87201762|\n",
      "|31/08/2020| 31|    8|2020|    0|     0|             Kazakhstan|   KZ|                 KAZ|1.8551428E7|        Asia|                                               48.69705987|\n",
      "|30/08/2020| 30|    8|2020|  633|     0|             Kazakhstan|   KZ|                 KAZ|1.8551428E7|        Asia|                                               51.27368093|\n",
      "|29/08/2020| 29|    8|2020| 1422|     0|             Kazakhstan|   KZ|                 KAZ|1.8551428E7|        Asia|                                               55.30032513|\n",
      "|28/08/2020| 28|    8|2020|  954|     0|             Kazakhstan|   KZ|                 KAZ|1.8551428E7|        Asia|                                               54.46480993|\n",
      "|27/08/2020| 27|    8|2020|  202|     0|             Kazakhstan|   KZ|                 KAZ|1.8551428E7|        Asia|                                               56.92284173|\n",
      "|26/08/2020| 26|    8|2020|    0|     0|             Kazakhstan|   KZ|                 KAZ|1.8551428E7|        Asia|                                               63.86031307|\n",
      "|25/08/2020| 25|    8|2020|    0|   108|             Kazakhstan|   KZ|                 KAZ|1.8551428E7|        Asia|                                               75.25566226|\n",
      "|24/08/2020| 24|    8|2020|  259|     2|             Kazakhstan|   KZ|                 KAZ|1.8551428E7|        Asia|                                               79.45479992|\n",
      "|23/08/2020| 23|    8|2020|  960|     8|             Kazakhstan|   KZ|                 KAZ|1.8551428E7|        Asia|                                               82.91005954|\n",
      "|22/08/2020| 22|    8|2020|  908|     5|             Kazakhstan|   KZ|                 KAZ|1.8551428E7|        Asia|                                               87.88541777|\n",
      "|21/08/2020| 21|    8|2020|  979|     6|             Kazakhstan|   KZ|                 KAZ|1.8551428E7|        Asia|                                               93.82027087|\n",
      "|20/08/2020| 20|    8|2020| 1031|     6|             Kazakhstan|   KZ|                 KAZ|1.8551428E7|        Asia|                                              101.50162025|\n",
      "+----------+---+-----+----+-----+------+-----------------------+-----+--------------------+-----------+------------+----------------------------------------------------------+\n",
      "only showing top 20 rows\n",
      "\n"
     ]
    }
   ],
   "source": [
    "# Read from HDFS to confirm it was successfully stored\n",
    "\n",
    "df_load = spark.read.parquet(\"hdfs://namenode:8020/covid/{}_{}.parquet\".format(csvName,epochNow))\n",
    "print(\"Covid Dataframe read from Hadoop : \")\n",
    "df_load.show()"
   ]
  },
  {
   "cell_type": "markdown",
   "id": "a0bb66df",
   "metadata": {},
   "source": [
    "\n",
    "<div align=\"right\" dir=\"auto\">\n",
    "   \n",
    "#  دیتاست دوم(پترن‌های باکتری Ecoli)\n",
    " </div>\n",
    "  "
   ]
  },
  {
   "cell_type": "code",
   "execution_count": 220,
   "id": "b811286b",
   "metadata": {},
   "outputs": [],
   "source": [
    "# Create a new SparkSession\n",
    "spark2 = SparkSession.builder.appName('spark-notebook-2').master('spark://spark-master:7077').getOrCreate()\n",
    "\n",
    "# Create the schema\n",
    "schema = StructType([\n",
    "    StructField(\"0\", StringType(), True)])"
   ]
  },
  {
   "cell_type": "code",
   "execution_count": 272,
   "id": "0d5f85b6",
   "metadata": {},
   "outputs": [
    {
     "name": "stdout",
     "output_type": "stream",
     "text": [
      "Loading data from text file: ./data/ecoli.txt\n",
      "Loading data from text file: ./data/.ipynb_checkpoints/ecoli-checkpoint.txt\n"
     ]
    }
   ],
   "source": [
    "# The data from covid.csv will be loaded from a local file path\n",
    "for path, subdirs, files in os.walk('./data/'):\n",
    "    for name in files:\n",
    "        if \"ecoli\" in name and name.endswith(\".txt\"):\n",
    "            txtPath = os.path.join(path, name)\n",
    "            print(\"Loading data from text file: {}\".format(txtPath))\n",
    "            # Load the ecoli.txt file\n",
    "            lines_txt = pandas.read_csv(txtPath)"
   ]
  },
  {
   "cell_type": "code",
   "execution_count": 222,
   "id": "7a7bd381",
   "metadata": {},
   "outputs": [],
   "source": [
    "# Create a new SparkSession\n",
    "spark2 = SparkSession.builder.appName('spark-notebook-2').master('spark://spark-master:7077').getOrCreate()\n",
    "\n",
    "# Create the schema\n",
    "schema = StructType([StructField(\"0\", StringType(), True)])"
   ]
  },
  {
   "cell_type": "code",
   "execution_count": 223,
   "id": "f0d8f633",
   "metadata": {},
   "outputs": [
    {
     "name": "stdout",
     "output_type": "stream",
     "text": [
      "+--------------------+\n",
      "|                   0|\n",
      "+--------------------+\n",
      "|TTCTGAACTGGTTACCT...|\n",
      "|TATAGGCATAGCGCACA...|\n",
      "|ATTACCACCACCATCAC...|\n",
      "|CCCGCACCTGACAGTGC...|\n",
      "|GTTCGGCGGTACATCAG...|\n",
      "|AGGCAGGGGCAGGTGGC...|\n",
      "|AAAAAACCATTAGCGGC...|\n",
      "|GACGGGACTCGCCGCCG...|\n",
      "|GCCCAAATAAAACATGT...|\n",
      "|TGATTTGCCGTGGCGAG...|\n",
      "+--------------------+\n",
      "only showing top 10 rows\n",
      "\n"
     ]
    },
    {
     "name": "stderr",
     "output_type": "stream",
     "text": [
      "2023-12-28 14:10:52,179 WARN scheduler.TaskSetManager: Stage 394 contains a task of very large size (2405 KiB). The maximum recommended task size is 1000 KiB.\n"
     ]
    }
   ],
   "source": [
    "lines_sp = spark2.createDataFrame(lines_txt, schema=schema)\n",
    "# Preview the structure\n",
    "lines_sp.show(10)"
   ]
  },
  {
   "cell_type": "markdown",
   "id": "f57f1aa0",
   "metadata": {},
   "source": [
    "<div align=\"right\" dir=\"auto\">\n",
    "   \n",
    "#  اسپارک RDD \n",
    "\n",
    "    \n",
    " </div>\n",
    "  "
   ]
  },
  {
   "cell_type": "markdown",
   "id": "3ad06dab",
   "metadata": {},
   "source": [
    "<div align=\"right\" dir=\"auto\">\n",
    "DataFrame را به RDD تبدیل کنید.\n",
    " </div>"
   ]
  },
  {
   "cell_type": "code",
   "execution_count": 224,
   "id": "e4d4b71a",
   "metadata": {},
   "outputs": [],
   "source": [
    "# to-do\n",
    "lines_rdd=lines_sp.rdd\n",
    "df = lines_rdd.toDF()"
   ]
  },
  {
   "cell_type": "code",
   "execution_count": 225,
   "id": "96bd34f5",
   "metadata": {},
   "outputs": [
    {
     "name": "stderr",
     "output_type": "stream",
     "text": [
      "2023-12-28 14:10:56,226 WARN scheduler.TaskSetManager: Stage 395 contains a task of very large size (2405 KiB). The maximum recommended task size is 1000 KiB.\n"
     ]
    },
    {
     "data": {
      "text/plain": [
       "['TTCTGAACTGGTTACCTGCCGTGAGTAAATTAAAATTTTATTGACTTAGGTCACTAAATACTTTAACCAA',\n",
       " 'TATAGGCATAGCGCACAGACAGATAAAAATTACAGAGTACACAACATCCATGAAACGCATTAGCACCACC',\n",
       " 'ATTACCACCACCATCACCATTACCACAGGTAACGGTGCGGGCTGACGCGTACAGGAAACACAGAAAAAAG',\n",
       " 'CCCGCACCTGACAGTGCGGGCTTTTTTTTTCGACCAAAGGTAACGAGGTAACAACCATGCGAGTGTTGAA',\n",
       " 'GTTCGGCGGTACATCAGTGGCAAATGCAGAACGTTTTCTGCGTGTTGCCGATATTCTGGAAAGCAATGCC']"
      ]
     },
     "execution_count": 225,
     "metadata": {},
     "output_type": "execute_result"
    }
   ],
   "source": [
    "# Define the lengths for patterns (3 and 4)\n",
    "pattern_lengths = [3, 4]\n",
    "lines_rdd = lines_rdd.map(lambda row: row[0])\n",
    "lines_rdd.take(5)"
   ]
  },
  {
   "cell_type": "code",
   "execution_count": 226,
   "id": "578206ea",
   "metadata": {},
   "outputs": [],
   "source": [
    "def line_to_grams(line, length):\n",
    "    ngrams = []\n",
    "    for i in range(len(line) - length + 1):\n",
    "        ngrams.append(line[i : i + length])\n",
    "    return ngrams\n",
    "\n",
    "pattern_lengths = [3, 4]"
   ]
  },
  {
   "cell_type": "markdown",
   "id": "a0d91d30",
   "metadata": {},
   "source": [
    "<div align=\"right\" dir=\"auto\">\n",
    "ایجاد RDD برای هر طول الگو (n-gram):\n",
    " \n",
    "ابتدا یک لیست از RDDهای n-gramها برای هر طول الگو (pattern length) ایجاد کرده.\n",
    "برای هر طول الگو، با استفاده از flatMap بر روی هر خط موجود در مجموعه داده (lines_rdd)، n-gramهای مربوط به طول الگو مورد نظر را ایجاد کرده و به لیستی از RDDها اضافه کنید.\n",
    " </div>\n",
    "  "
   ]
  },
  {
   "cell_type": "code",
   "execution_count": 227,
   "id": "12d8d58d",
   "metadata": {},
   "outputs": [
    {
     "name": "stderr",
     "output_type": "stream",
     "text": [
      "2023-12-28 14:11:01,032 WARN scheduler.TaskSetManager: Stage 396 contains a task of very large size (2405 KiB). The maximum recommended task size is 1000 KiB.\n"
     ]
    },
    {
     "data": {
      "text/plain": [
       "['TTCT', 'TCTG', 'CTGA', 'TGAA', 'GAAC']"
      ]
     },
     "execution_count": 227,
     "metadata": {},
     "output_type": "execute_result"
    }
   ],
   "source": [
    "ngrams_rdds = []\n",
    "for length in pattern_lengths:\n",
    "    ngrams_rdds.append(lines_rdd.flatMap(lambda x: line_to_grams(x, length)))\n",
    "ngrams_rdds[0].take(5)"
   ]
  },
  {
   "cell_type": "markdown",
   "id": "c32d48a3",
   "metadata": {},
   "source": [
    "\n",
    "<div align=\"right\" dir=\"auto\">\n",
    " محاسبه تعداد n-gramها:\n",
    "سپس، برای هر RDD حاصل از مرحله قبل، تعداد تکرارهای هر n-gram را محاسبه کرده.\n",
    "این کار با استفاده از map و reduceByKey بر روی هر n-gram، جفت‌هایی از (n-gram, تعداد تکرار) را ایجاد کرده و سپس نتایج را به یک لیست از RDDها اضافه کرده.\n",
    "در نهایت، دو RDD ایجاد شده داده‌های مربوط به هر طول الگو را در اختیار دارند.\n",
    "     </div>"
   ]
  },
  {
   "cell_type": "code",
   "execution_count": 228,
   "id": "4e17a026",
   "metadata": {},
   "outputs": [
    {
     "name": "stderr",
     "output_type": "stream",
     "text": [
      "2023-12-28 14:11:02,348 WARN scheduler.TaskSetManager: Stage 397 contains a task of very large size (2405 KiB). The maximum recommended task size is 1000 KiB.\n",
      "2023-12-28 14:11:04,840 WARN scheduler.TaskSetManager: Stage 399 contains a task of very large size (2405 KiB). The maximum recommended task size is 1000 KiB.\n",
      "                                                                                \r"
     ]
    },
    {
     "data": {
      "text/plain": [
       "[MapPartitionsRDD[742] at javaToPython at NativeMethodAccessorImpl.java:0,\n",
       " MapPartitionsRDD[755] at javaToPython at NativeMethodAccessorImpl.java:0]"
      ]
     },
     "execution_count": 228,
     "metadata": {},
     "output_type": "execute_result"
    }
   ],
   "source": [
    "from operator import add\n",
    "\n",
    "count_rdds = []\n",
    "for ngrams_rdd, length in zip(ngrams_rdds, pattern_lengths):\n",
    "    count_rdds.append(spark.createDataFrame(ngrams_rdd.map(lambda x: (x, 1)).reduceByKey(add)).rdd)\n",
    "    \n",
    "count_rdds "
   ]
  },
  {
   "cell_type": "code",
   "execution_count": 229,
   "id": "8cbfaefb",
   "metadata": {},
   "outputs": [],
   "source": [
    "merged_rdd = count_rdds[0].union(count_rdds[1])\n",
    "dna_patterns = merged_rdd.sortByKey(ascending=False).map(lambda x: f\"{x[1]} {x[0]}\")"
   ]
  },
  {
   "cell_type": "code",
   "execution_count": 244,
   "id": "f8687b7e",
   "metadata": {},
   "outputs": [
    {
     "data": {
      "text/plain": [
       "['34049 TTTT',\n",
       " '23436 TTTG',\n",
       " '26181 TTTC',\n",
       " '21450 TTTA',\n",
       " '106672 TTT',\n",
       " '15951 TTGT',\n",
       " '13013 TTGG',\n",
       " '26131 TTGC',\n",
       " '18546 TTGA',\n",
       " '74786 TTG']"
      ]
     },
     "execution_count": 244,
     "metadata": {},
     "output_type": "execute_result"
    }
   ],
   "source": [
    "dna_patterns.take(10)"
   ]
  },
  {
   "cell_type": "code",
   "execution_count": 256,
   "id": "73a9115d",
   "metadata": {},
   "outputs": [
    {
     "data": {
      "text/plain": [
       "PythonRDD[843] at RDD at PythonRDD.scala:53"
      ]
     },
     "execution_count": 256,
     "metadata": {},
     "output_type": "execute_result"
    }
   ],
   "source": [
    "# Split each string into two columns (ngram and count) using space as the delimiter\n",
    "split_rdd = dna_patterns.map(lambda line: line.split())\n",
    "\n",
    "# Create a DataFrame from the RDD with column names\n",
    "columns = [\"pattern\", \"count\"]\n",
    "df = spark2.createDataFrame(split_rdd, columns)\n",
    "split_rdd"
   ]
  },
  {
   "cell_type": "code",
   "execution_count": 257,
   "id": "845df485",
   "metadata": {},
   "outputs": [
    {
     "name": "stdout",
     "output_type": "stream",
     "text": [
      "+-------+-----+\n",
      "|pattern|count|\n",
      "+-------+-----+\n",
      "|  34049| TTTT|\n",
      "|  23436| TTTG|\n",
      "|  26181| TTTC|\n",
      "|  21450| TTTA|\n",
      "| 106672|  TTT|\n",
      "|  15951| TTGT|\n",
      "|  13013| TTGG|\n",
      "|  26131| TTGC|\n",
      "|  18546| TTGA|\n",
      "|  74786|  TTG|\n",
      "+-------+-----+\n",
      "only showing top 10 rows\n",
      "\n"
     ]
    }
   ],
   "source": [
    "df.show(10)"
   ]
  },
  {
   "cell_type": "markdown",
   "id": "4d6be39f",
   "metadata": {},
   "source": [
    "\n",
    "<div align=\"right\" dir=\"auto\">\n",
    "   \n",
    "# تابع تعریف شده توسط کاربر(UDF)\n",
    "\n",
    "یکی از مزایای اسپارک این است که نه تنها برای ما یک زبان SQL فراهم کرده که روی چندین سرور به صورت همزمان پردازش را انجام دهد بلکه \n",
    "    میتوان به زبان‌های مختلف توابعی تعریف کرد که روی  همه executor ها اجرا شود   در این بخش از شما انتظار می‌رود که با نوشتن یک UDF به زبان پایتونی    توضیحات  قسمت  قبل را انجام دهید.\n",
    "\n",
    " </div>\n",
    " \n",
    "[pyspark.sql.functions.udf](https://spark.apache.org/docs/3.1.3/api/python/reference/api/pyspark.sql.functions.udf.html)\n",
    "\n",
    "[pyspark.sql.DataFrame.withColumn](https://spark.apache.org/docs/3.1.3/api/python/reference/api/pyspark.sql.DataFrame.withColumn.html)\n",
    "\n",
    "    \n",
    "\n"
   ]
  },
  {
   "cell_type": "code",
   "execution_count": 267,
   "id": "0490f9e9",
   "metadata": {},
   "outputs": [],
   "source": [
    "def split_string(line):\n",
    "    parts = line.split()  # Splitting assuming space as delimiter\n",
    "    return int(parts[0]), parts[1] if len(parts) > 1 else None"
   ]
  },
  {
   "cell_type": "code",
   "execution_count": 273,
   "id": "449ebbd8",
   "metadata": {},
   "outputs": [
    {
     "name": "stdout",
     "output_type": "stream",
     "text": [
      "+-------+------+\n",
      "|pattern| count|\n",
      "+-------+------+\n",
      "|   TTTT| 34049|\n",
      "|   TTTG| 23436|\n",
      "|   TTTC| 26181|\n",
      "|   TTTA| 21450|\n",
      "|    TTT|106672|\n",
      "|   TTGT| 15951|\n",
      "|   TTGG| 13013|\n",
      "|   TTGC| 26131|\n",
      "|   TTGA| 18546|\n",
      "|    TTG| 74786|\n",
      "+-------+------+\n",
      "only showing top 10 rows\n",
      "\n"
     ]
    }
   ],
   "source": [
    "from pyspark.sql.functions import col\n",
    "from pyspark.sql.functions import udf\n",
    "from pyspark.sql import  Row\n",
    "\n",
    "\n",
    "# Define the UDF to split the string into two columns\n",
    "# to-do\n",
    "schema = StructType([\n",
    "    StructField(\"count\", IntegerType(), False),\n",
    "    StructField(\"pattern\", StringType(), False)\n",
    "])\n",
    "splitUDF = udf(lambda z: split_string(z), schema)\n",
    "\n",
    "# Apply the UDF to create separate columns\n",
    "columns = [\"pair\",]\n",
    "dnaDf = dna_patterns.map(Row).toDF(schema=columns)\n",
    "df_with_split = dnaDf.withColumn(\"split_result\", splitUDF(col(\"pair\"))).drop(\"pair\")\n",
    "df_with_split = df_with_split.withColumn(\"pattern\", df_with_split[\"split_result.pattern\"]) \\\n",
    "                            .withColumn(\"count\", df_with_split[\"split_result.count\"]) \\\n",
    "                            .drop(\"split_result\")\n",
    "\n",
    "# Show the resulting DataFrame\n",
    "df_with_split.show(10)"
   ]
  },
  {
   "cell_type": "code",
   "execution_count": null,
   "id": "404e8999",
   "metadata": {},
   "outputs": [],
   "source": []
  },
  {
   "cell_type": "code",
   "execution_count": 193,
   "id": "f15ab4c7",
   "metadata": {},
   "outputs": [
    {
     "name": "stdout",
     "output_type": "stream",
     "text": [
      "Loading data from csv ./data/graph-cze.csv\n"
     ]
    },
    {
     "data": {
      "text/html": [
       "<div>\n",
       "<style scoped>\n",
       "    .dataframe tbody tr th:only-of-type {\n",
       "        vertical-align: middle;\n",
       "    }\n",
       "\n",
       "    .dataframe tbody tr th {\n",
       "        vertical-align: top;\n",
       "    }\n",
       "\n",
       "    .dataframe thead th {\n",
       "        text-align: right;\n",
       "    }\n",
       "</style>\n",
       "<table border=\"1\" class=\"dataframe\">\n",
       "  <thead>\n",
       "    <tr style=\"text-align: right;\">\n",
       "      <th></th>\n",
       "      <th>id1</th>\n",
       "      <th>id2</th>\n",
       "      <th>dist</th>\n",
       "      <th>edge_id</th>\n",
       "    </tr>\n",
       "  </thead>\n",
       "  <tbody>\n",
       "    <tr>\n",
       "      <th>0</th>\n",
       "      <td>31525683</td>\n",
       "      <td>31525685</td>\n",
       "      <td>516</td>\n",
       "      <td>40151122</td>\n",
       "    </tr>\n",
       "    <tr>\n",
       "      <th>1</th>\n",
       "      <td>31525683</td>\n",
       "      <td>31525688</td>\n",
       "      <td>321</td>\n",
       "      <td>40151120</td>\n",
       "    </tr>\n",
       "    <tr>\n",
       "      <th>2</th>\n",
       "      <td>31525684</td>\n",
       "      <td>31525692</td>\n",
       "      <td>698</td>\n",
       "      <td>40156758</td>\n",
       "    </tr>\n",
       "    <tr>\n",
       "      <th>3</th>\n",
       "      <td>31525685</td>\n",
       "      <td>31525683</td>\n",
       "      <td>516</td>\n",
       "      <td>40151123</td>\n",
       "    </tr>\n",
       "    <tr>\n",
       "      <th>4</th>\n",
       "      <td>31525685</td>\n",
       "      <td>31525686</td>\n",
       "      <td>9</td>\n",
       "      <td>40151124</td>\n",
       "    </tr>\n",
       "    <tr>\n",
       "      <th>...</th>\n",
       "      <td>...</td>\n",
       "      <td>...</td>\n",
       "      <td>...</td>\n",
       "      <td>...</td>\n",
       "    </tr>\n",
       "    <tr>\n",
       "      <th>2287913</th>\n",
       "      <td>32495067</td>\n",
       "      <td>32495062</td>\n",
       "      <td>94</td>\n",
       "      <td>40389868</td>\n",
       "    </tr>\n",
       "    <tr>\n",
       "      <th>2287914</th>\n",
       "      <td>32495068</td>\n",
       "      <td>32495022</td>\n",
       "      <td>520</td>\n",
       "      <td>41069839</td>\n",
       "    </tr>\n",
       "    <tr>\n",
       "      <th>2287915</th>\n",
       "      <td>32495069</td>\n",
       "      <td>32495033</td>\n",
       "      <td>326</td>\n",
       "      <td>40389752</td>\n",
       "    </tr>\n",
       "    <tr>\n",
       "      <th>2287916</th>\n",
       "      <td>32495070</td>\n",
       "      <td>32495043</td>\n",
       "      <td>251</td>\n",
       "      <td>40389751</td>\n",
       "    </tr>\n",
       "    <tr>\n",
       "      <th>2287917</th>\n",
       "      <td>32495071</td>\n",
       "      <td>32494971</td>\n",
       "      <td>1253</td>\n",
       "      <td>42012745</td>\n",
       "    </tr>\n",
       "  </tbody>\n",
       "</table>\n",
       "<p>2287918 rows × 4 columns</p>\n",
       "</div>"
      ],
      "text/plain": [
       "              id1       id2  dist   edge_id\n",
       "0        31525683  31525685   516  40151122\n",
       "1        31525683  31525688   321  40151120\n",
       "2        31525684  31525692   698  40156758\n",
       "3        31525685  31525683   516  40151123\n",
       "4        31525685  31525686     9  40151124\n",
       "...           ...       ...   ...       ...\n",
       "2287913  32495067  32495062    94  40389868\n",
       "2287914  32495068  32495022   520  41069839\n",
       "2287915  32495069  32495033   326  40389752\n",
       "2287916  32495070  32495043   251  40389751\n",
       "2287917  32495071  32494971  1253  42012745\n",
       "\n",
       "[2287918 rows x 4 columns]"
      ]
     },
     "execution_count": 193,
     "metadata": {},
     "output_type": "execute_result"
    }
   ],
   "source": [
    "# Read the input data into a DataFrame\n",
    "for path, subdirs, files in os.walk('./data'):\n",
    "    for name in files:\n",
    "        if \"graph-cze.csv\" in name:\n",
    "            csvName = name\n",
    "            csvPath = os.path.join(path, name)\n",
    "            print(\"Loading data from csv {}\".format(csvPath))\n",
    "            graphDfPandas = pandas.read_csv(csvPath, delimiter=';')\n",
    "graphDfPandas"
   ]
  },
  {
   "cell_type": "code",
   "execution_count": 487,
   "id": "1554e390",
   "metadata": {},
   "outputs": [],
   "source": [
    "# Structure of data in the DataFrame\n",
    "schema = StructType([\n",
    "    StructField(\"id1\", IntegerType(), True),\n",
    "    StructField(\"id2\", IntegerType(), True),\n",
    "    StructField(\"dist\", IntegerType(), True),\n",
    "    StructField(\"edge_id\", IntegerType(), True)\n",
    "])\n",
    "spark3 = SparkSession.builder.appName('dijkstra').master('spark://spark-master:7077').getOrCreate()"
   ]
  },
  {
   "cell_type": "code",
   "execution_count": 488,
   "id": "e5e9435f",
   "metadata": {},
   "outputs": [],
   "source": [
    "# id1;id2;dist;edge_id\n",
    "# 31525683;31525685;516;40151122\n",
    "# 31525683;31525688;321;40151120"
   ]
  },
  {
   "cell_type": "code",
   "execution_count": 489,
   "id": "a5afa5d9",
   "metadata": {},
   "outputs": [],
   "source": [
    "# Convert Pandas DataFrame to Spark DataFrame with defined schema\n",
    "graphDfSpark = spark3.createDataFrame(graphDfPandas.values.tolist(), schema=schema)"
   ]
  },
  {
   "cell_type": "code",
   "execution_count": 490,
   "id": "633a1b79",
   "metadata": {},
   "outputs": [],
   "source": [
    "graphDfSpark.registerTempTable(\"graph\")"
   ]
  },
  {
   "cell_type": "code",
   "execution_count": 491,
   "id": "2058785e",
   "metadata": {},
   "outputs": [
    {
     "name": "stderr",
     "output_type": "stream",
     "text": [
      "2024-01-02 13:38:48,845 WARN scheduler.TaskSetManager: Stage 568 contains a task of very large size (22608 KiB). The maximum recommended task size is 1000 KiB.\n",
      "                                                                                \r"
     ]
    }
   ],
   "source": [
    "query = \"\"\"\n",
    "    SELECT DISTINCT id1\n",
    "    FROM graph ORDER BY id1\n",
    "\"\"\"\n",
    "unique_values = spark3.sql(query)\n",
    "nodes_name = [row.id1 for row in unique_values.collect()]"
   ]
  },
  {
   "cell_type": "code",
   "execution_count": 492,
   "id": "4b3c588b",
   "metadata": {},
   "outputs": [
    {
     "name": "stdout",
     "output_type": "stream",
     "text": [
      "969139\n"
     ]
    }
   ],
   "source": [
    "print(len(nodes_name))"
   ]
  },
  {
   "cell_type": "code",
   "execution_count": 511,
   "id": "fff87bd9",
   "metadata": {},
   "outputs": [],
   "source": [
    "class Node:\n",
    "    def __init__(self, name: str, distance: float, neighbors: dict):\n",
    "        self.name = name\n",
    "        self.distance = distance\n",
    "        self.neighbors = neighbors\n",
    "    \n",
    "    def Print(self):\n",
    "        return f\"{self.name}: {{\\\"Distance\\\": float(\\\"{self.distance}\\\"), \\\"AdjacencyList\\\": {self.neighbors}}}\""
   ]
  },
  {
   "cell_type": "code",
   "execution_count": 512,
   "id": "301179be",
   "metadata": {},
   "outputs": [],
   "source": [
    "nodes = {}\n",
    "for i in range(len(nodes_name)):\n",
    "    nodes[str(nodes_name[i])] = Node(str(nodes_name[i]), float('inf'), {})\n",
    "nodes[str(nodes_name[0])].distance = 0.0\n",
    "# for i in range(10):# len(nodes_name)):\n",
    "#     query = f\"\"\"SELECT id1, id2, dist FROM graph WHERE id1={nodes_name[i]}\"\"\"\n",
    "#     tempDf = spark3.sql(query)\n",
    "# #     print([row.id2 for row in x])\n",
    "#     if i == 0:\n",
    "#         nodes.append(Node(nodes_name[i], 0, {row.id2:row.dist for row in tempDf.collect()})) \n",
    "#     else:\n",
    "#         nodes.append(Node(nodes_name[i], float('inf'), {row.id2:row.dist for row in tempDf.collect()}))\n",
    "     "
   ]
  },
  {
   "cell_type": "code",
   "execution_count": 513,
   "id": "ce2ac698",
   "metadata": {},
   "outputs": [
    {
     "name": "stderr",
     "output_type": "stream",
     "text": [
      "                                                                                \r"
     ]
    }
   ],
   "source": [
    "query = \"\"\"SELECT * FROM graph ORDER BY id1\"\"\"\n",
    "# tempDf = spark3.sql(query)\n",
    "for row in tempDf.collect():\n",
    "    nodes[str(row.id1)].neighbors[row.id2] = row.dist"
   ]
  },
  {
   "cell_type": "code",
   "execution_count": 518,
   "id": "6f0db072",
   "metadata": {},
   "outputs": [
    {
     "name": "stdout",
     "output_type": "stream",
     "text": [
      "31525683: {\"Distance\": float(\"0.0\"), \"AdjacencyList\": {31525685: 516}}\n",
      "31525684: {\"Distance\": float(\"inf\"), \"AdjacencyList\": {}}\n",
      "31525685: {\"Distance\": float(\"inf\"), \"AdjacencyList\": {}}\n",
      "31525686: {\"Distance\": float(\"inf\"), \"AdjacencyList\": {}}\n",
      "31525687: {\"Distance\": float(\"inf\"), \"AdjacencyList\": {}}\n",
      "31525688: {\"Distance\": float(\"inf\"), \"AdjacencyList\": {}}\n",
      "31525689: {\"Distance\": float(\"inf\"), \"AdjacencyList\": {}}\n",
      "31525690: {\"Distance\": float(\"inf\"), \"AdjacencyList\": {}}\n",
      "31525691: {\"Distance\": float(\"inf\"), \"AdjacencyList\": {}}\n",
      "31525692: {\"Distance\": float(\"inf\"), \"AdjacencyList\": {}}\n",
      "31525693: {\"Distance\": float(\"inf\"), \"AdjacencyList\": {}}\n",
      "31525694: {\"Distance\": float(\"inf\"), \"AdjacencyList\": {}}\n",
      "31525695: {\"Distance\": float(\"inf\"), \"AdjacencyList\": {}}\n",
      "31525696: {\"Distance\": float(\"inf\"), \"AdjacencyList\": {}}\n",
      "31525697: {\"Distance\": float(\"inf\"), \"AdjacencyList\": {}}\n",
      "31525698: {\"Distance\": float(\"inf\"), \"AdjacencyList\": {}}\n",
      "31525699: {\"Distance\": float(\"inf\"), \"AdjacencyList\": {}}\n",
      "31525700: {\"Distance\": float(\"inf\"), \"AdjacencyList\": {}}\n",
      "31525701: {\"Distance\": float(\"inf\"), \"AdjacencyList\": {}}\n",
      "31525702: {\"Distance\": float(\"inf\"), \"AdjacencyList\": {}}\n",
      "31525703: {\"Distance\": float(\"inf\"), \"AdjacencyList\": {}}\n"
     ]
    }
   ],
   "source": [
    "# print(nodes[1].name, nodes[1].distance, nodes[1].neighbors)\n",
    "# x = spark3.sparkContext.parallelize(nodes).collect()\n",
    "j = 0\n",
    "for i in nodes:\n",
    "    print(nodes[i].Print())\n",
    "    if j == 20:\n",
    "        break\n",
    "    j += 1"
   ]
  },
  {
   "cell_type": "code",
   "execution_count": 254,
   "id": "d1903feb",
   "metadata": {},
   "outputs": [],
   "source": [
    "spark3.stop()"
   ]
  },
  {
   "cell_type": "code",
   "execution_count": 7,
   "id": "585a49f2",
   "metadata": {},
   "outputs": [],
   "source": [
    "spark4 = SparkSession.builder.appName('ranking').master('spark://spark-master:7077').getOrCreate()"
   ]
  },
  {
   "cell_type": "code",
   "execution_count": 8,
   "id": "4a567c7c",
   "metadata": {},
   "outputs": [
    {
     "data": {
      "text/plain": [
       "['$#*! My Dad Says', 'Xena: Warrior Princess']"
      ]
     },
     "execution_count": 8,
     "metadata": {},
     "output_type": "execute_result"
    }
   ],
   "source": [
    "x = \"$#*! My Dad Says --> Xena: Warrior Princess\"\n",
    "x.split(' --> ')"
   ]
  },
  {
   "cell_type": "code",
   "execution_count": 9,
   "id": "6fb52a05",
   "metadata": {},
   "outputs": [],
   "source": [
    "\n",
    "# # text_rdd = spark4.sparkContext.textFile(\"../hadoop/data/movie-links.txt\")\n",
    "# pandas_df = pandas.read_csv(\"data/movie-links.txt\", encoding='latin-1')\n",
    "\n",
    "# # Convert the pandas DataFrame to a PySpark DataFrame\n",
    "# spark_df = spark.createDataFrame(pandas_df)\n",
    "\n",
    "# # Convert the PySpark DataFrame to an RDD\n",
    "# rdd_from_df = spark_df.rdd\n"
   ]
  },
  {
   "cell_type": "code",
   "execution_count": 10,
   "id": "ec2adac0",
   "metadata": {},
   "outputs": [],
   "source": [
    "class Node:\n",
    "    def __init__(self, name: str, page_rank: float, neighbors: []):\n",
    "        self.name = name\n",
    "        self.page_rank = page_rank\n",
    "        self.neighbors = neighbors"
   ]
  },
  {
   "cell_type": "code",
   "execution_count": 11,
   "id": "3fc33933",
   "metadata": {},
   "outputs": [
    {
     "name": "stderr",
     "output_type": "stream",
     "text": [
      "                                                                                \r"
     ]
    },
    {
     "name": "stdout",
     "output_type": "stream",
     "text": [
      "Hercules;  {\"PageRank\": 0.014285714285714287, \"AdjacencyList\": ['$100,000 Name That Tune']}\n",
      "Late Show with David Letterman;  {\"PageRank\": 0.014285714285714287, \"AdjacencyList\": ['$40 a Day', '$#*! My Dad Says']}\n",
      "Disaster Movie;  {\"PageRank\": 0.014285714285714287, \"AdjacencyList\": ['$40 a Day']}\n",
      "A Bit of Fry and Laurie;  {\"PageRank\": 0.014285714285714287, \"AdjacencyList\": [\"'Allo 'Allo!\"]}\n",
      "Frankie Boyle's Tramadol Nights;  {\"PageRank\": 0.014285714285714287, \"AdjacencyList\": [\"'Allo 'Allo!\"]}\n",
      "Goodnight Sweetheart;  {\"PageRank\": 0.014285714285714287, \"AdjacencyList\": [\"'Allo 'Allo!\"]}\n",
      "Have I Got News for You;  {\"PageRank\": 0.014285714285714287, \"AdjacencyList\": [\"'Allo 'Allo!\"]}\n",
      "On the Waterfront;  {\"PageRank\": 0.014285714285714287, \"AdjacencyList\": [\"'Allo 'Allo!\"]}\n",
      "QI;  {\"PageRank\": 0.014285714285714287, \"AdjacencyList\": [\"'Allo 'Allo!\"]}\n",
      "A Fish Called Wanda;  {\"PageRank\": 0.014285714285714287, \"AdjacencyList\": [\"'Allo 'Allo!\"]}\n",
      "Bill Bailey: Part Troll;  {\"PageRank\": 0.014285714285714287, \"AdjacencyList\": [\"'Allo 'Allo!\"]}\n",
      "Comic Relief Does University Challenge;  {\"PageRank\": 0.014285714285714287, \"AdjacencyList\": [\"'Allo 'Allo!\"]}\n",
      "Hitler: The Comedy Years;  {\"PageRank\": 0.014285714285714287, \"AdjacencyList\": [\"'Allo 'Allo!\"]}\n",
      "Howard Stern on Demand;  {\"PageRank\": 0.014285714285714287, \"AdjacencyList\": ['#1 Single']}\n",
      "#LawstinWoods;  {\"PageRank\": 0.014285714285714287, \"AdjacencyList\": ['Lost', 'Kenny Rogers and Dolly Parton: Together', 'The Grudge', 'The Ring']}\n",
      "#MonologueWars;  {\"PageRank\": 0.014285714285714287, \"AdjacencyList\": ['Trainspotting']}\n",
      "Geeks Who Drink;  {\"PageRank\": 0.014285714285714287, \"AdjacencyList\": ['$#*! My Dad Says']}\n",
      "RuPaul's Drag Race;  {\"PageRank\": 0.014285714285714287, \"AdjacencyList\": ['$#*! My Dad Says']}\n",
      "The Cinema Snob;  {\"PageRank\": 0.014285714285714287, \"AdjacencyList\": ['$#*! My Dad Says']}\n",
      "Community;  {\"PageRank\": 0.014285714285714287, \"AdjacencyList\": ['$#*! My Dad Says']}\n",
      "Conan;  {\"PageRank\": 0.014285714285714287, \"AdjacencyList\": ['$#*! My Dad Says']}\n",
      "Robot Chicken;  {\"PageRank\": 0.014285714285714287, \"AdjacencyList\": ['$#*! My Dad Says']}\n",
      "The Talk;  {\"PageRank\": 0.014285714285714287, \"AdjacencyList\": ['$#*! My Dad Says']}\n",
      "The 37th Annual People's Choice Awards;  {\"PageRank\": 0.014285714285714287, \"AdjacencyList\": ['$#*! My Dad Says']}\n",
      "To Be Takei;  {\"PageRank\": 0.014285714285714287, \"AdjacencyList\": ['$#*! My Dad Says']}\n",
      "$#*! My Dad Says;  {\"PageRank\": 0.014285714285714287, \"AdjacencyList\": ['Xena: Warrior Princess', 'Psycho', 'Deadliest Catch', 'The Love Boat', 'Saw', 'Star Wars', 'Hazel', \"Grey's Anatomy\", 'Glee', 'Transformers: Revenge of the Fallen']}\n",
      "Behind the Camera: The Unauthorized Story of 'Diff'rent Strokes';  {\"PageRank\": 0.014285714285714287, \"AdjacencyList\": ['$weepstake$']}\n",
      "Bruiser;  {\"PageRank\": 0.014285714285714287, \"AdjacencyList\": [\"'Allo 'Allo!\"]}\n",
      "Comedy Connections;  {\"PageRank\": 0.014285714285714287, \"AdjacencyList\": [\"'Allo 'Allo!\"]}\n",
      "Countdown;  {\"PageRank\": 0.014285714285714287, \"AdjacencyList\": [\"'Allo 'Allo!\", \"'Allo 'Allo!\"]}\n",
      "De slimste mens ter wereld;  {\"PageRank\": 0.014285714285714287, \"AdjacencyList\": [\"'Allo 'Allo!\"]}\n",
      "Drop the Dead Donkey;  {\"PageRank\": 0.014285714285714287, \"AdjacencyList\": [\"'Allo 'Allo!\"]}\n",
      "El ministerio del tiempo;  {\"PageRank\": 0.014285714285714287, \"AdjacencyList\": [\"'Allo 'Allo!\"]}\n",
      "The Upper Hand;  {\"PageRank\": 0.014285714285714287, \"AdjacencyList\": [\"'Allo 'Allo!\"]}\n",
      "Three Men Go to Venice;  {\"PageRank\": 0.014285714285714287, \"AdjacencyList\": [\"'Allo 'Allo!\"]}\n",
      "A Night of Comic Relief 2;  {\"PageRank\": 0.014285714285714287, \"AdjacencyList\": [\"'Allo 'Allo!\"]}\n",
      "Lost;  {\"PageRank\": 0.014285714285714287, \"AdjacencyList\": []}\n",
      "Xena: Warrior Princess;  {\"PageRank\": 0.014285714285714287, \"AdjacencyList\": []}\n",
      "$100,000 Name That Tune;  {\"PageRank\": 0.014285714285714287, \"AdjacencyList\": []}\n",
      "'Allo 'Allo!;  {\"PageRank\": 0.014285714285714287, \"AdjacencyList\": []}\n",
      "$weepstake$;  {\"PageRank\": 0.014285714285714287, \"AdjacencyList\": []}\n",
      "#1 Single;  {\"PageRank\": 0.014285714285714287, \"AdjacencyList\": []}\n",
      "The Grudge;  {\"PageRank\": 0.014285714285714287, \"AdjacencyList\": []}\n",
      "The Ring;  {\"PageRank\": 0.014285714285714287, \"AdjacencyList\": []}\n",
      "Trainspotting;  {\"PageRank\": 0.014285714285714287, \"AdjacencyList\": []}\n",
      "Saw;  {\"PageRank\": 0.014285714285714287, \"AdjacencyList\": []}\n",
      "Glee;  {\"PageRank\": 0.014285714285714287, \"AdjacencyList\": []}\n",
      "Transformers: Revenge of the Fallen;  {\"PageRank\": 0.014285714285714287, \"AdjacencyList\": []}\n",
      "$40 a Day;  {\"PageRank\": 0.014285714285714287, \"AdjacencyList\": []}\n",
      "Kenny Rogers and Dolly Parton: Together;  {\"PageRank\": 0.014285714285714287, \"AdjacencyList\": []}\n",
      "Psycho;  {\"PageRank\": 0.014285714285714287, \"AdjacencyList\": []}\n",
      "Deadliest Catch;  {\"PageRank\": 0.014285714285714287, \"AdjacencyList\": []}\n",
      "The Love Boat;  {\"PageRank\": 0.014285714285714287, \"AdjacencyList\": []}\n",
      "Star Wars;  {\"PageRank\": 0.014285714285714287, \"AdjacencyList\": []}\n",
      "Hazel;  {\"PageRank\": 0.014285714285714287, \"AdjacencyList\": []}\n",
      "Grey's Anatomy;  {\"PageRank\": 0.014285714285714287, \"AdjacencyList\": []}\n"
     ]
    }
   ],
   "source": [
    "lines = []\n",
    "alpha = 0.8\n",
    "with open(\"data/movie-links.txt\", 'r', encoding='latin-1') as file:\n",
    "    i = 0\n",
    "    for line in file:\n",
    "        lines.append(line.strip().split(' --> '))\n",
    "        i += 1\n",
    "        if i == 50:\n",
    "            break\n",
    "\n",
    "movieRdd = spark4.sparkContext.parallelize(lines)\n",
    "unique_list_referenced = movieRdd.map(lambda x: x[0]).distinct()\n",
    "unique_list = movieRdd.flatMap(lambda x: x).distinct()\n",
    "unique_count = unique_list.count()\n",
    "movies_with_no_link_rdd = unique_list.subtract(unique_list_referenced).map(lambda x : \"{};  {{\\\"PageRank\\\": {}, \\\"AdjacencyList\\\": {}}}\"\n",
    "                                                              .format(x, alpha/unique_count, []))\n",
    "\n",
    "graphRdd = movieRdd.map(lambda x: (x[0], [x[1]])).reduceByKey(lambda a, b: a+b).map(lambda x: \"{};  {{\\\"PageRank\\\": {}, \\\"AdjacencyList\\\": {}}}\"\n",
    "                                                            .format(x[0], alpha/unique_count, x[1]))\n",
    "\n",
    "mergedGraphRdd = graphRdd.union(movies_with_no_link_rdd)\n",
    "for i in mergedGraphRdd.collect():\n",
    "    print(i)"
   ]
  },
  {
   "cell_type": "code",
   "execution_count": 12,
   "id": "08091842",
   "metadata": {},
   "outputs": [],
   "source": [
    "def init_mapper(line):\n",
    "    node_name, values = line.split(';', 1)\n",
    "    node_name = node_name.strip()\n",
    "    return (node_name, line)\n",
    "\n",
    "def mapper(pair):\n",
    "    line = pair[1]\n",
    "    node_name, values = line.split(';', 1)\n",
    "    node_name = node_name.strip()\n",
    "    values = eval(values.strip()) \n",
    "    node = Node(node_name, float(values['PageRank']), values['AdjacencyList'])\n",
    "    return [(n, (1-alpha)*node.page_rank/len(node.neighbors)) for n in node.neighbors]\n",
    "\n",
    "changed = True\n",
    "def final_reducer(a, b):\n",
    "    if isinstance(b, float):\n",
    "        a, b = b, a\n",
    "    else:\n",
    "        node_name, values = b.split(';', 1)\n",
    "        node_name = node_name.strip()\n",
    "        values = eval(values.strip()) \n",
    "        new_rank = alpha/unique_count+a\n",
    "        node = Node(node_name, new_rank, values['AdjacencyList'])\n",
    "        if values['PageRank'] != new_rank:\n",
    "            changed = True\n",
    "    return \"{};  {{\\\"PageRank\\\": {}, \\\"AdjacencyList\\\": {}}}\"\\\n",
    "                .format(node.name, node.page_rank, node.neighbors)\n"
   ]
  },
  {
   "cell_type": "code",
   "execution_count": 482,
   "id": "6ef0db93",
   "metadata": {},
   "outputs": [
    {
     "name": "stdout",
     "output_type": "stream",
     "text": [
      "'Allo 'Allo!;  {\"PageRank\": 0.06857142857142856, \"AdjacencyList\": {}}\n",
      "Xena: Warrior Princess;  {\"PageRank\": 0.014571428571428572, \"AdjacencyList\": {}}\n",
      "RuPaul's Drag Race;  {\"PageRank\": 0.014285714285714287, \"AdjacencyList\": ['$#*! My Dad Says']}\n",
      "A Bit of Fry and Laurie;  {\"PageRank\": 0.014285714285714287, \"AdjacencyList\": [\"'Allo 'Allo!\"]}\n",
      "Frankie Boyle's Tramadol Nights;  {\"PageRank\": 0.014285714285714287, \"AdjacencyList\": [\"'Allo 'Allo!\"]}\n",
      "Have I Got News for You;  {\"PageRank\": 0.014285714285714287, \"AdjacencyList\": [\"'Allo 'Allo!\"]}\n",
      "On the Waterfront;  {\"PageRank\": 0.014285714285714287, \"AdjacencyList\": [\"'Allo 'Allo!\"]}\n",
      "A Night of Comic Relief 2;  {\"PageRank\": 0.014285714285714287, \"AdjacencyList\": [\"'Allo 'Allo!\"]}\n",
      "Community;  {\"PageRank\": 0.014285714285714287, \"AdjacencyList\": ['$#*! My Dad Says']}\n",
      "The Talk;  {\"PageRank\": 0.014285714285714287, \"AdjacencyList\": ['$#*! My Dad Says']}\n",
      "The Ring;  {\"PageRank\": 0.015000000000000001, \"AdjacencyList\": {}}\n",
      "Late Show with David Letterman;  {\"PageRank\": 0.014285714285714287, \"AdjacencyList\": ['$#*! My Dad Says', '$40 a Day']}\n",
      "Disaster Movie;  {\"PageRank\": 0.014285714285714287, \"AdjacencyList\": ['$40 a Day']}\n",
      "Hitler: The Comedy Years;  {\"PageRank\": 0.014285714285714287, \"AdjacencyList\": [\"'Allo 'Allo!\"]}\n",
      "Deadliest Catch;  {\"PageRank\": 0.014571428571428572, \"AdjacencyList\": {}}\n",
      "Star Wars;  {\"PageRank\": 0.014571428571428572, \"AdjacencyList\": {}}\n",
      "$40 a Day;  {\"PageRank\": 0.018571428571428572, \"AdjacencyList\": {}}\n",
      "Behind the Camera: The Unauthorized Story of 'Diff'rent Strokes';  {\"PageRank\": 0.014285714285714287, \"AdjacencyList\": ['$weepstake$']}\n",
      "Comedy Connections;  {\"PageRank\": 0.014285714285714287, \"AdjacencyList\": [\"'Allo 'Allo!\"]}\n",
      "To Be Takei;  {\"PageRank\": 0.014285714285714287, \"AdjacencyList\": ['$#*! My Dad Says']}\n",
      "$100,000 Name That Tune;  {\"PageRank\": 0.017142857142857144, \"AdjacencyList\": {}}\n",
      "#1 Single;  {\"PageRank\": 0.017142857142857144, \"AdjacencyList\": {}}\n",
      "Bruiser;  {\"PageRank\": 0.014285714285714287, \"AdjacencyList\": [\"'Allo 'Allo!\"]}\n",
      "The Upper Hand;  {\"PageRank\": 0.014285714285714287, \"AdjacencyList\": [\"'Allo 'Allo!\"]}\n",
      "Three Men Go to Venice;  {\"PageRank\": 0.014285714285714287, \"AdjacencyList\": [\"'Allo 'Allo!\"]}\n",
      "The 37th Annual People's Choice Awards;  {\"PageRank\": 0.014285714285714287, \"AdjacencyList\": ['$#*! My Dad Says']}\n",
      "Trainspotting;  {\"PageRank\": 0.017142857142857144, \"AdjacencyList\": {}}\n",
      "Saw;  {\"PageRank\": 0.014571428571428572, \"AdjacencyList\": {}}\n",
      "Glee;  {\"PageRank\": 0.014571428571428572, \"AdjacencyList\": {}}\n",
      "A Fish Called Wanda;  {\"PageRank\": 0.014285714285714287, \"AdjacencyList\": [\"'Allo 'Allo!\"]}\n",
      "Psycho;  {\"PageRank\": 0.014571428571428572, \"AdjacencyList\": {}}\n",
      "The Love Boat;  {\"PageRank\": 0.014571428571428572, \"AdjacencyList\": {}}\n",
      "$#*! My Dad Says;  {\"PageRank\": 0.041428571428571426, \"AdjacencyList\": ['Transformers: Revenge of the Fallen', 'Xena: Warrior Princess', 'Psycho', 'Deadliest Catch', 'The Love Boat', 'Saw', 'Star Wars', 'Hazel', \"Grey's Anatomy\", 'Glee']}\n",
      "Conan;  {\"PageRank\": 0.014285714285714287, \"AdjacencyList\": ['$#*! My Dad Says']}\n",
      "Lost;  {\"PageRank\": 0.015000000000000001, \"AdjacencyList\": {}}\n",
      "#LawstinWoods;  {\"PageRank\": 0.014285714285714287, \"AdjacencyList\": ['Lost', 'Kenny Rogers and Dolly Parton: Together', 'The Grudge', 'The Ring']}\n",
      "#MonologueWars;  {\"PageRank\": 0.014285714285714287, \"AdjacencyList\": ['Trainspotting']}\n",
      "Geeks Who Drink;  {\"PageRank\": 0.014285714285714287, \"AdjacencyList\": ['$#*! My Dad Says']}\n",
      "The Cinema Snob;  {\"PageRank\": 0.014285714285714287, \"AdjacencyList\": ['$#*! My Dad Says']}\n",
      "QI;  {\"PageRank\": 0.014285714285714287, \"AdjacencyList\": [\"'Allo 'Allo!\"]}\n",
      "Bill Bailey: Part Troll;  {\"PageRank\": 0.014285714285714287, \"AdjacencyList\": [\"'Allo 'Allo!\"]}\n",
      "$weepstake$;  {\"PageRank\": 0.017142857142857144, \"AdjacencyList\": {}}\n",
      "Countdown;  {\"PageRank\": 0.014285714285714287, \"AdjacencyList\": [\"'Allo 'Allo!\", \"'Allo 'Allo!\"]}\n",
      "El ministerio del tiempo;  {\"PageRank\": 0.014285714285714287, \"AdjacencyList\": [\"'Allo 'Allo!\"]}\n",
      "Robot Chicken;  {\"PageRank\": 0.014285714285714287, \"AdjacencyList\": ['$#*! My Dad Says']}\n",
      "The Grudge;  {\"PageRank\": 0.015000000000000001, \"AdjacencyList\": {}}\n",
      "Transformers: Revenge of the Fallen;  {\"PageRank\": 0.014571428571428572, \"AdjacencyList\": {}}\n",
      "Howard Stern on Demand;  {\"PageRank\": 0.014285714285714287, \"AdjacencyList\": ['#1 Single']}\n",
      "Hercules;  {\"PageRank\": 0.014285714285714287, \"AdjacencyList\": ['$100,000 Name That Tune']}\n",
      "Goodnight Sweetheart;  {\"PageRank\": 0.014285714285714287, \"AdjacencyList\": [\"'Allo 'Allo!\"]}\n",
      "Comic Relief Does University Challenge;  {\"PageRank\": 0.014285714285714287, \"AdjacencyList\": [\"'Allo 'Allo!\"]}\n",
      "Hazel;  {\"PageRank\": 0.014571428571428572, \"AdjacencyList\": {}}\n",
      "Grey's Anatomy;  {\"PageRank\": 0.014571428571428572, \"AdjacencyList\": {}}\n",
      "Kenny Rogers and Dolly Parton: Together;  {\"PageRank\": 0.015000000000000001, \"AdjacencyList\": {}}\n",
      "De slimste mens ter wereld;  {\"PageRank\": 0.014285714285714287, \"AdjacencyList\": [\"'Allo 'Allo!\"]}\n",
      "Drop the Dead Donkey;  {\"PageRank\": 0.014285714285714287, \"AdjacencyList\": [\"'Allo 'Allo!\"]}\n"
     ]
    },
    {
     "name": "stderr",
     "output_type": "stream",
     "text": [
      "                                                                                \r"
     ]
    }
   ],
   "source": [
    "mappedMergedGraphRdd = mergedGraphRdd.map(init_mapper)\n",
    "# for i in range(unique_count):\n",
    "while changed:\n",
    "    changed = False\n",
    "    mappedMergedGraphRdd = mappedMergedGraphRdd.flatMap(mapper).reduceByKey(lambda a, b: a + b).union(mappedMergedGraphRdd).reduceByKey(final_reducer)\n",
    "result = mappedMergedGraphRdd.map(lambda x: x[1])\n",
    "for i in result.collect():\n",
    "    print(i)"
   ]
  },
  {
   "cell_type": "code",
   "execution_count": null,
   "id": "7f7e87be",
   "metadata": {},
   "outputs": [],
   "source": [
    "#         node_name, values = a.split(';', 1)\n",
    "#         node_name = node_name.strip()\n",
    "#         values = eval(values.strip())\n",
    "#         new_rank = alpha/unique_count+b\n",
    "#         if values['PageRank'] != new_rank:\n",
    "#             changed = True\n",
    "#         node = Node(node_name, new_rank, values['AdjacencyList'])"
   ]
  }
 ],
 "metadata": {
  "kernelspec": {
   "display_name": "Python 3 (ipykernel)",
   "language": "python",
   "name": "python3"
  },
  "language_info": {
   "codemirror_mode": {
    "name": "ipython",
    "version": 3
   },
   "file_extension": ".py",
   "mimetype": "text/x-python",
   "name": "python",
   "nbconvert_exporter": "python",
   "pygments_lexer": "ipython3",
   "version": "3.8.10"
  }
 },
 "nbformat": 4,
 "nbformat_minor": 5
}
