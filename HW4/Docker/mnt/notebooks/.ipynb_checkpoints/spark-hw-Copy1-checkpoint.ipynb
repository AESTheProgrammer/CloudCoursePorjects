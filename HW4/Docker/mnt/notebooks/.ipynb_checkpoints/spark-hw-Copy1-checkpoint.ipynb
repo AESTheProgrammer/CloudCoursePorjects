{
 "cells": [
  {
   "cell_type": "markdown",
   "id": "f3b7d13a",
   "metadata": {},
   "source": [
    "<div align=\"right\" dir=\"auto\">\n",
    "   \n",
    "#  دیتاست اول(COVID)\n",
    " </div>\n",
    "  "
   ]
  },
  {
   "cell_type": "markdown",
   "id": "532c096e",
   "metadata": {},
   "source": [
    "\n",
    "<div align=\"right\" dir=\"auto\">\n",
    "   \n",
    "##  اتصال به کلاستر اسپارک و هدوپ \n",
    "\n",
    "    در این قسمت از تمرین باید به عنوان درایور یک سسشن  به کلاستر اسپارک بسازیم.\n",
    " </div>\n",
    "  \n",
    "* **appName**: application name displayed at the Spark Master Web UI;\n",
    "* **master**: Spark Master URL, same used by Spark Workers;\n",
    "* **spark.executor.memory**: must be less than or equals to docker compose SPARK_WORKER_MEMORY config."
   ]
  },
  {
   "cell_type": "code",
   "execution_count": 192,
   "id": "67dbc387",
   "metadata": {},
   "outputs": [
    {
     "name": "stdout",
     "output_type": "stream",
     "text": [
      "Requirement already satisfied: pyspark==3.1.1 in /usr/local/lib/python3.8/dist-packages (3.1.1)\n",
      "Requirement already satisfied: py4j==0.10.9 in /usr/local/lib/python3.8/dist-packages (from pyspark==3.1.1) (0.10.9)\n",
      "\u001b[33mWARNING: Running pip as the 'root' user can result in broken permissions and conflicting behaviour with the system package manager. It is recommended to use a virtual environment instead: https://pip.pypa.io/warnings/venv\u001b[0m\u001b[33m\n",
      "\u001b[0m3.1.1\n"
     ]
    }
   ],
   "source": [
    "!pip install pyspark==3.1.1\n",
    "import matplotlib.pyplot as plt\n",
    "import pyspark\n",
    "from pyspark.sql import SparkSession\n",
    "import os\n",
    "import pandas\n",
    "from pyspark.sql.types import *\n",
    "print(pyspark.__version__)\n"
   ]
  },
  {
   "cell_type": "code",
   "execution_count": 160,
   "id": "13f821ee",
   "metadata": {},
   "outputs": [],
   "source": [
    "spark.stop()"
   ]
  },
  {
   "cell_type": "code",
   "execution_count": 156,
   "id": "1b55add0",
   "metadata": {},
   "outputs": [
    {
     "name": "stdout",
     "output_type": "stream",
     "text": [
      "3.1.1\n"
     ]
    },
    {
     "data": {
      "text/html": [
       "\n",
       "            <div>\n",
       "                <p><b>SparkSession - in-memory</b></p>\n",
       "                \n",
       "        <div>\n",
       "            <p><b>SparkContext</b></p>\n",
       "\n",
       "            <p><a href=\"http://267ff4c7069e:4040\">Spark UI</a></p>\n",
       "\n",
       "            <dl>\n",
       "              <dt>Version</dt>\n",
       "                <dd><code>v3.1.1</code></dd>\n",
       "              <dt>Master</dt>\n",
       "                <dd><code>spark://spark-master:7077</code></dd>\n",
       "              <dt>AppName</dt>\n",
       "                <dd><code>spark-notebook-1</code></dd>\n",
       "            </dl>\n",
       "        </div>\n",
       "        \n",
       "            </div>\n",
       "        "
      ],
      "text/plain": [
       "<pyspark.sql.session.SparkSession at 0x7f3cf9c15d00>"
      ]
     },
     "execution_count": 156,
     "metadata": {},
     "output_type": "execute_result"
    }
   ],
   "source": [
    "print(pyspark.__version__)\n",
    "\n",
    "spark = SparkSession.builder.appName('spark-notebook-1').master('spark://spark-master:7077').config('spark.executor.memmory', '2G').getOrCreate()\n",
    "spark"
   ]
  },
  {
   "cell_type": "markdown",
   "id": "d5a606de",
   "metadata": {},
   "source": [
    "\n",
    "<div align=\"right\" dir=\"auto\">\n",
    "   \n",
    "#  خواندن داده \n",
    "\n",
    "    :در اسپارک ما ساختارهای مختلفی برای کار با داده و پخش شدن آن‌ها در شبکه داریم که به ۳ دسته تقسیم بندی میشوند \n",
    "+ RDD\n",
    "+ Dataset\n",
    "+ DataFrame\n",
    "    \n",
    "    \n",
    "     برای مطالعه بیشتر به لینک زیر مراجعه کنید:\n",
    "[rdd-vs-dataframe-vs-dataset](https://phoenixnap.com/kb/rdd-vs-dataframe-vs-dataset)\n",
    "\n",
    "    ما در درس با ساختار RDD آشنا شدیم حال در این تمرین میخواهیم با ساختار Dataframe آشنا شویم و به کمک آن دیتا را از روی HDFS بخوانیم و روی آن فایل‌ها پردازش انجام دهیم\n",
    " \n",
    " </div>\n",
    "  \n",
    "    "
   ]
  },
  {
   "cell_type": "code",
   "execution_count": 9,
   "id": "ee1eaa23",
   "metadata": {},
   "outputs": [
    {
     "name": "stdout",
     "output_type": "stream",
     "text": [
      "Loading data from csv ./data/covid.csv\n",
      "Loading data from csv ./data/.ipynb_checkpoints/covid-checkpoint.csv\n"
     ]
    },
    {
     "data": {
      "text/html": [
       "<div>\n",
       "<style scoped>\n",
       "    .dataframe tbody tr th:only-of-type {\n",
       "        vertical-align: middle;\n",
       "    }\n",
       "\n",
       "    .dataframe tbody tr th {\n",
       "        vertical-align: top;\n",
       "    }\n",
       "\n",
       "    .dataframe thead th {\n",
       "        text-align: right;\n",
       "    }\n",
       "</style>\n",
       "<table border=\"1\" class=\"dataframe\">\n",
       "  <thead>\n",
       "    <tr style=\"text-align: right;\">\n",
       "      <th></th>\n",
       "      <th>dateRep</th>\n",
       "      <th>day</th>\n",
       "      <th>month</th>\n",
       "      <th>year</th>\n",
       "      <th>cases</th>\n",
       "      <th>deaths</th>\n",
       "      <th>countriesAndTerritories</th>\n",
       "      <th>geoId</th>\n",
       "      <th>countryterritoryCode</th>\n",
       "      <th>popData2019</th>\n",
       "      <th>continentExp</th>\n",
       "      <th>Cumulative_number_for_14_days_of_COVID-19_cases_per_100000</th>\n",
       "    </tr>\n",
       "  </thead>\n",
       "  <tbody>\n",
       "    <tr>\n",
       "      <th>0</th>\n",
       "      <td>14/12/2020</td>\n",
       "      <td>14</td>\n",
       "      <td>12</td>\n",
       "      <td>2020</td>\n",
       "      <td>746</td>\n",
       "      <td>6</td>\n",
       "      <td>Afghanistan</td>\n",
       "      <td>AF</td>\n",
       "      <td>AFG</td>\n",
       "      <td>38041757.0</td>\n",
       "      <td>Asia</td>\n",
       "      <td>9.013779</td>\n",
       "    </tr>\n",
       "    <tr>\n",
       "      <th>1</th>\n",
       "      <td>13/12/2020</td>\n",
       "      <td>13</td>\n",
       "      <td>12</td>\n",
       "      <td>2020</td>\n",
       "      <td>298</td>\n",
       "      <td>9</td>\n",
       "      <td>Afghanistan</td>\n",
       "      <td>AF</td>\n",
       "      <td>AFG</td>\n",
       "      <td>38041757.0</td>\n",
       "      <td>Asia</td>\n",
       "      <td>7.052776</td>\n",
       "    </tr>\n",
       "    <tr>\n",
       "      <th>2</th>\n",
       "      <td>12/12/2020</td>\n",
       "      <td>12</td>\n",
       "      <td>12</td>\n",
       "      <td>2020</td>\n",
       "      <td>113</td>\n",
       "      <td>11</td>\n",
       "      <td>Afghanistan</td>\n",
       "      <td>AF</td>\n",
       "      <td>AFG</td>\n",
       "      <td>38041757.0</td>\n",
       "      <td>Asia</td>\n",
       "      <td>6.868768</td>\n",
       "    </tr>\n",
       "    <tr>\n",
       "      <th>3</th>\n",
       "      <td>11/12/2020</td>\n",
       "      <td>11</td>\n",
       "      <td>12</td>\n",
       "      <td>2020</td>\n",
       "      <td>63</td>\n",
       "      <td>10</td>\n",
       "      <td>Afghanistan</td>\n",
       "      <td>AF</td>\n",
       "      <td>AFG</td>\n",
       "      <td>38041757.0</td>\n",
       "      <td>Asia</td>\n",
       "      <td>7.134266</td>\n",
       "    </tr>\n",
       "    <tr>\n",
       "      <th>4</th>\n",
       "      <td>10/12/2020</td>\n",
       "      <td>10</td>\n",
       "      <td>12</td>\n",
       "      <td>2020</td>\n",
       "      <td>202</td>\n",
       "      <td>16</td>\n",
       "      <td>Afghanistan</td>\n",
       "      <td>AF</td>\n",
       "      <td>AFG</td>\n",
       "      <td>38041757.0</td>\n",
       "      <td>Asia</td>\n",
       "      <td>6.968658</td>\n",
       "    </tr>\n",
       "    <tr>\n",
       "      <th>...</th>\n",
       "      <td>...</td>\n",
       "      <td>...</td>\n",
       "      <td>...</td>\n",
       "      <td>...</td>\n",
       "      <td>...</td>\n",
       "      <td>...</td>\n",
       "      <td>...</td>\n",
       "      <td>...</td>\n",
       "      <td>...</td>\n",
       "      <td>...</td>\n",
       "      <td>...</td>\n",
       "      <td>...</td>\n",
       "    </tr>\n",
       "    <tr>\n",
       "      <th>61895</th>\n",
       "      <td>25/03/2020</td>\n",
       "      <td>25</td>\n",
       "      <td>3</td>\n",
       "      <td>2020</td>\n",
       "      <td>0</td>\n",
       "      <td>0</td>\n",
       "      <td>Zimbabwe</td>\n",
       "      <td>ZW</td>\n",
       "      <td>ZWE</td>\n",
       "      <td>14645473.0</td>\n",
       "      <td>Africa</td>\n",
       "      <td>NaN</td>\n",
       "    </tr>\n",
       "    <tr>\n",
       "      <th>61896</th>\n",
       "      <td>24/03/2020</td>\n",
       "      <td>24</td>\n",
       "      <td>3</td>\n",
       "      <td>2020</td>\n",
       "      <td>0</td>\n",
       "      <td>1</td>\n",
       "      <td>Zimbabwe</td>\n",
       "      <td>ZW</td>\n",
       "      <td>ZWE</td>\n",
       "      <td>14645473.0</td>\n",
       "      <td>Africa</td>\n",
       "      <td>NaN</td>\n",
       "    </tr>\n",
       "    <tr>\n",
       "      <th>61897</th>\n",
       "      <td>23/03/2020</td>\n",
       "      <td>23</td>\n",
       "      <td>3</td>\n",
       "      <td>2020</td>\n",
       "      <td>0</td>\n",
       "      <td>0</td>\n",
       "      <td>Zimbabwe</td>\n",
       "      <td>ZW</td>\n",
       "      <td>ZWE</td>\n",
       "      <td>14645473.0</td>\n",
       "      <td>Africa</td>\n",
       "      <td>NaN</td>\n",
       "    </tr>\n",
       "    <tr>\n",
       "      <th>61898</th>\n",
       "      <td>22/03/2020</td>\n",
       "      <td>22</td>\n",
       "      <td>3</td>\n",
       "      <td>2020</td>\n",
       "      <td>1</td>\n",
       "      <td>0</td>\n",
       "      <td>Zimbabwe</td>\n",
       "      <td>ZW</td>\n",
       "      <td>ZWE</td>\n",
       "      <td>14645473.0</td>\n",
       "      <td>Africa</td>\n",
       "      <td>NaN</td>\n",
       "    </tr>\n",
       "    <tr>\n",
       "      <th>61899</th>\n",
       "      <td>21/03/2020</td>\n",
       "      <td>21</td>\n",
       "      <td>3</td>\n",
       "      <td>2020</td>\n",
       "      <td>1</td>\n",
       "      <td>0</td>\n",
       "      <td>Zimbabwe</td>\n",
       "      <td>ZW</td>\n",
       "      <td>ZWE</td>\n",
       "      <td>14645473.0</td>\n",
       "      <td>Africa</td>\n",
       "      <td>NaN</td>\n",
       "    </tr>\n",
       "  </tbody>\n",
       "</table>\n",
       "<p>61900 rows × 12 columns</p>\n",
       "</div>"
      ],
      "text/plain": [
       "          dateRep  day  month  year  cases  deaths countriesAndTerritories  \\\n",
       "0      14/12/2020   14     12  2020    746       6             Afghanistan   \n",
       "1      13/12/2020   13     12  2020    298       9             Afghanistan   \n",
       "2      12/12/2020   12     12  2020    113      11             Afghanistan   \n",
       "3      11/12/2020   11     12  2020     63      10             Afghanistan   \n",
       "4      10/12/2020   10     12  2020    202      16             Afghanistan   \n",
       "...           ...  ...    ...   ...    ...     ...                     ...   \n",
       "61895  25/03/2020   25      3  2020      0       0                Zimbabwe   \n",
       "61896  24/03/2020   24      3  2020      0       1                Zimbabwe   \n",
       "61897  23/03/2020   23      3  2020      0       0                Zimbabwe   \n",
       "61898  22/03/2020   22      3  2020      1       0                Zimbabwe   \n",
       "61899  21/03/2020   21      3  2020      1       0                Zimbabwe   \n",
       "\n",
       "      geoId countryterritoryCode  popData2019 continentExp  \\\n",
       "0        AF                  AFG   38041757.0         Asia   \n",
       "1        AF                  AFG   38041757.0         Asia   \n",
       "2        AF                  AFG   38041757.0         Asia   \n",
       "3        AF                  AFG   38041757.0         Asia   \n",
       "4        AF                  AFG   38041757.0         Asia   \n",
       "...     ...                  ...          ...          ...   \n",
       "61895    ZW                  ZWE   14645473.0       Africa   \n",
       "61896    ZW                  ZWE   14645473.0       Africa   \n",
       "61897    ZW                  ZWE   14645473.0       Africa   \n",
       "61898    ZW                  ZWE   14645473.0       Africa   \n",
       "61899    ZW                  ZWE   14645473.0       Africa   \n",
       "\n",
       "       Cumulative_number_for_14_days_of_COVID-19_cases_per_100000  \n",
       "0                                               9.013779           \n",
       "1                                               7.052776           \n",
       "2                                               6.868768           \n",
       "3                                               7.134266           \n",
       "4                                               6.968658           \n",
       "...                                                  ...           \n",
       "61895                                                NaN           \n",
       "61896                                                NaN           \n",
       "61897                                                NaN           \n",
       "61898                                                NaN           \n",
       "61899                                                NaN           \n",
       "\n",
       "[61900 rows x 12 columns]"
      ]
     },
     "execution_count": 9,
     "metadata": {},
     "output_type": "execute_result"
    }
   ],
   "source": [
    "# The data from covid.csv will be loaded from a local file path\n",
    "for path, subdirs, files in os.walk('./data/'):\n",
    "    for name in files:\n",
    "        if \"covid\" in name:\n",
    "            csvName = name\n",
    "            csvPath = os.path.join(path, name)\n",
    "            print(\"Loading data from csv {}\".format(csvPath))\n",
    "            covidDfPandas = pandas.read_csv(csvPath)\n",
    "covidDfPandas"
   ]
  },
  {
   "cell_type": "code",
   "execution_count": 10,
   "id": "a0732122",
   "metadata": {},
   "outputs": [],
   "source": [
    "# Structure of data in the DataFrame\n",
    "schema = StructType([\n",
    "    StructField(\"dateRep\", StringType(), True),\n",
    "    StructField(\"day\", IntegerType(), True),\n",
    "    StructField(\"month\", IntegerType(), True),\n",
    "    StructField(\"year\", IntegerType(), True),\n",
    "    StructField(\"cases\", IntegerType(), True),\n",
    "    StructField(\"deaths\", IntegerType(), True),\n",
    "    StructField(\"countriesAndTerritories\", StringType(), True),\n",
    "    StructField(\"geoId\", StringType(), True),\n",
    "    StructField(\"countryterritoryCode\", StringType(), True),\n",
    "    StructField(\"popData2019\", FloatType(), True),\n",
    "    StructField(\"continentExp\", StringType(), True),\n",
    "    StructField(\"Cumulative_number_for_14_days_of_COVID-19_cases_per_100000\", DoubleType(), True),\n",
    "])"
   ]
  },
  {
   "cell_type": "markdown",
   "id": "db9d2c89",
   "metadata": {},
   "source": [
    "\n",
    "<div align=\"right\" dir=\"auto\">\n",
    "یک DataFrame از Pandas را به یک DataFrame از Spark تبدیل کنید و سپس طرح ساختاری و برخی از داده‌ها را نمایش دهید.\n",
    " </div>\n",
    "  \n",
    "    \n",
    "\n",
    "\n"
   ]
  },
  {
   "cell_type": "code",
   "execution_count": 13,
   "id": "2640fda4",
   "metadata": {},
   "outputs": [
    {
     "name": "stdout",
     "output_type": "stream",
     "text": [
      "root\n",
      " |-- dateRep: string (nullable = true)\n",
      " |-- day: integer (nullable = true)\n",
      " |-- month: integer (nullable = true)\n",
      " |-- year: integer (nullable = true)\n",
      " |-- cases: integer (nullable = true)\n",
      " |-- deaths: integer (nullable = true)\n",
      " |-- countriesAndTerritories: string (nullable = true)\n",
      " |-- geoId: string (nullable = true)\n",
      " |-- countryterritoryCode: string (nullable = true)\n",
      " |-- popData2019: float (nullable = true)\n",
      " |-- continentExp: string (nullable = true)\n",
      " |-- Cumulative_number_for_14_days_of_COVID-19_cases_per_100000: double (nullable = true)\n",
      "\n",
      "+----------+---+-----+----+-----+------+-----------------------+-----+--------------------+-----------+------------+----------------------------------------------------------+\n",
      "|   dateRep|day|month|year|cases|deaths|countriesAndTerritories|geoId|countryterritoryCode|popData2019|continentExp|Cumulative_number_for_14_days_of_COVID-19_cases_per_100000|\n",
      "+----------+---+-----+----+-----+------+-----------------------+-----+--------------------+-----------+------------+----------------------------------------------------------+\n",
      "|14/12/2020| 14|   12|2020|  746|     6|            Afghanistan|   AF|                 AFG|3.8041756E7|        Asia|                                                9.01377925|\n",
      "|13/12/2020| 13|   12|2020|  298|     9|            Afghanistan|   AF|                 AFG|3.8041756E7|        Asia|                                                7.05277624|\n",
      "|12/12/2020| 12|   12|2020|  113|    11|            Afghanistan|   AF|                 AFG|3.8041756E7|        Asia|                                                6.86876792|\n",
      "|11/12/2020| 11|   12|2020|   63|    10|            Afghanistan|   AF|                 AFG|3.8041756E7|        Asia|                                                7.13426564|\n",
      "|10/12/2020| 10|   12|2020|  202|    16|            Afghanistan|   AF|                 AFG|3.8041756E7|        Asia|                                                6.96865815|\n",
      "|09/12/2020|  9|   12|2020|  135|    13|            Afghanistan|   AF|                 AFG|3.8041756E7|        Asia|                                                6.96340077|\n",
      "|08/12/2020|  8|   12|2020|  200|     6|            Afghanistan|   AF|                 AFG|3.8041756E7|        Asia|                                                7.09483529|\n",
      "|07/12/2020|  7|   12|2020|  210|    26|            Afghanistan|   AF|                 AFG|3.8041756E7|        Asia|                                                7.21575505|\n",
      "|06/12/2020|  6|   12|2020|  234|    10|            Afghanistan|   AF|                 AFG|3.8041756E7|        Asia|                                                7.32616004|\n",
      "|05/12/2020|  5|   12|2020|  235|    18|            Afghanistan|   AF|                 AFG|3.8041756E7|        Asia|                                                7.11586481|\n",
      "|04/12/2020|  4|   12|2020|  119|     5|            Afghanistan|   AF|                 AFG|3.8041756E7|        Asia|                                                7.10797874|\n",
      "|03/12/2020|  3|   12|2020|  202|    19|            Afghanistan|   AF|                 AFG|3.8041756E7|        Asia|                                                7.53645527|\n",
      "|02/12/2020|  2|   12|2020|  400|    48|            Afghanistan|   AF|                 AFG|3.8041756E7|        Asia|                                                7.00545982|\n",
      "|01/12/2020|  1|   12|2020|  272|    11|            Afghanistan|   AF|                 AFG|3.8041756E7|        Asia|                                                6.96077208|\n",
      "|30/11/2020| 30|   11|2020|    0|     0|            Afghanistan|   AF|                 AFG|3.8041756E7|        Asia|                                                6.41663317|\n",
      "|29/11/2020| 29|   11|2020|  228|    11|            Afghanistan|   AF|                 AFG|3.8041756E7|        Asia|                                                 6.8451097|\n",
      "|28/11/2020| 28|   11|2020|  214|    15|            Afghanistan|   AF|                 AFG|3.8041756E7|        Asia|                                                6.78464983|\n",
      "|27/11/2020| 27|   11|2020|    0|     0|            Afghanistan|   AF|                 AFG|3.8041756E7|        Asia|                                                6.39560365|\n",
      "|26/11/2020| 26|   11|2020|  200|    12|            Afghanistan|   AF|                 AFG|3.8041756E7|        Asia|                                                7.34193218|\n",
      "|25/11/2020| 25|   11|2020|  185|    13|            Afghanistan|   AF|                 AFG|3.8041756E7|        Asia|                                                 7.1999829|\n",
      "+----------+---+-----+----+-----+------+-----------------------+-----+--------------------+-----------+------------+----------------------------------------------------------+\n",
      "only showing top 20 rows\n",
      "\n"
     ]
    },
    {
     "name": "stderr",
     "output_type": "stream",
     "text": [
      "2023-12-30 06:54:31,505 WARN scheduler.TaskSetManager: Stage 3 contains a task of very large size (1650 KiB). The maximum recommended task size is 1000 KiB.\n",
      "2023-12-30 06:54:31,592 WARN scheduler.TaskSetManager: Stage 4 contains a task of very large size (1650 KiB). The maximum recommended task size is 1000 KiB.\n"
     ]
    },
    {
     "name": "stdout",
     "output_type": "stream",
     "text": [
      "Row(dateRep='14/12/2020', day=14, month=12, year=2020, cases=746, deaths=6, countriesAndTerritories='Afghanistan', geoId='AF', countryterritoryCode='AFG', popData2019=38041756.0, continentExp='Asia', Cumulative_number_for_14_days_of_COVID-19_cases_per_100000=9.01377925)\n"
     ]
    }
   ],
   "source": [
    "# Convert Pandas DataFrame to Spark DataFrame with defined schema\n",
    "covidDfSpark = spark.createDataFrame(covidDfPandas.values.tolist(), schema=schema)\n",
    "\n",
    "# Show the DataFrame schema and some data\n",
    "covidDfSpark.printSchema()\n",
    "covidDfSpark.show()"
   ]
  },
  {
   "cell_type": "markdown",
   "id": "9692a120",
   "metadata": {},
   "source": [
    "\n",
    "<div align=\"right\" dir=\"auto\">\n",
    "   \n",
    "#  اسپارک SQL \n",
    "\n",
    "    مهمترین قابلیت اسپارک این است که می‌تواند با خواندن فایل‌ها به صورت توزیع شده روی آن‌ها پردازش انجام دهد و این پردازش را برنامه ‌نویس میتواند با استفاده از دستورات SQL اعمال کند\n",
    "    در این بخش از شما انتظار می‌رود که به وسیله spark SQL  به اسپارک کوئری  بزنید . \n",
    "    \n",
    "    \n",
    " </div>\n",
    "\n",
    "[pyspark.sql.functions.col](https://spark.apache.org/docs/latest/api/python/reference/pyspark.sql/api/pyspark.sql.functions.col.html)\n",
    "\n",
    "[pyspark.sql.DataFrame.count](https://spark.apache.org/docs/latest/api/python/reference/pyspark.sql/api/pyspark.sql.DataFrame.count.html)\n",
    "\n",
    "[pyspark.sql.DataFrame.filter](https://spark.apache.org/docs/latest/api/python/reference/pyspark.sql/api/pyspark.sql.DataFrame.filter.html)\n",
    "\n",
    "[pyspark.sql.DataFrame.groupBy](https://spark.apache.org/docs/3.1.1/api/python/reference/api/pyspark.sql.DataFrame.groupBy.html)"
   ]
  },
  {
   "cell_type": "markdown",
   "id": "8f62f149",
   "metadata": {},
   "source": [
    "<div align=\"right\" dir=\"auto\">\n",
    "برای اینکه بتوانیم روی دیتای لود شده به وسیله تابع  spark.sql\n",
    "    کوئری‌های SQL بزنیم\n",
    "    باید دو دیتاست لود شده را به عنوان table\n",
    "    به spark \n",
    "    معرفی کنیم\n",
    "</div>"
   ]
  },
  {
   "cell_type": "code",
   "execution_count": 196,
   "id": "489b0f0e",
   "metadata": {},
   "outputs": [],
   "source": [
    "covidDfSpark.registerTempTable(\"covid\")"
   ]
  },
  {
   "cell_type": "markdown",
   "id": "217bb822",
   "metadata": {},
   "source": [
    "<div align=\"right\" dir=\"auto\">\n",
    " ده رکورد آخر را نمایش دهید\n",
    "</div>"
   ]
  },
  {
   "cell_type": "code",
   "execution_count": 197,
   "id": "db490153",
   "metadata": {},
   "outputs": [
    {
     "name": "stderr",
     "output_type": "stream",
     "text": [
      "2023-12-28 14:00:16,341 WARN scheduler.TaskSetManager: Stage 338 contains a task of very large size (1687 KiB). The maximum recommended task size is 1000 KiB.\n",
      "2023-12-28 14:00:16,539 WARN scheduler.TaskSetManager: Stage 339 contains a task of very large size (1650 KiB). The maximum recommended task size is 1000 KiB.\n"
     ]
    },
    {
     "name": "stdout",
     "output_type": "stream",
     "text": [
      "+----------+---+-----+----+-----+------+-----------------------+-----+--------------------+------------+------------+----------------------------------------------------------+\n",
      "|   dateRep|day|month|year|cases|deaths|countriesAndTerritories|geoId|countryterritoryCode| popData2019|continentExp|Cumulative_number_for_14_days_of_COVID-19_cases_per_100000|\n",
      "+----------+---+-----+----+-----+------+-----------------------+-----+--------------------+------------+------------+----------------------------------------------------------+\n",
      "|31/12/2019| 31|   12|2019|    0|     0|             Azerbaijan|   AZ|                 AZE| 1.0047719E7|      Europe|                                                       NaN|\n",
      "|31/12/2019| 31|   12|2019|    0|     0|                Croatia|   HR|                 HRV|   4076246.0|      Europe|                                                       NaN|\n",
      "|31/12/2019| 31|   12|2019|    0|     0|                Bahrain|   BH|                 BHR|   1641164.0|        Asia|                                                       NaN|\n",
      "|31/12/2019| 31|   12|2019|    0|     0|                Algeria|   DZ|                 DZA| 4.3053056E7|      Africa|                                                       NaN|\n",
      "|31/12/2019| 31|   12|2019|    0|     0|                Belarus|   BY|                 BLR|   9452409.0|      Europe|                                                       NaN|\n",
      "|31/12/2019| 31|   12|2019|    0|     0|              Australia|   AU|                 AUS|   2.52032E7|     Oceania|                                                       NaN|\n",
      "|31/12/2019| 31|   12|2019|    0|     0|                Belgium|   BE|                 BEL| 1.1455519E7|      Europe|                                                       NaN|\n",
      "|31/12/2019| 31|   12|2019|    0|     0|               Cambodia|   KH|                 KHM| 1.6486542E7|        Asia|                                                       NaN|\n",
      "|31/12/2019| 31|   12|2019|   27|     0|                  China|   CN|                 CHN|1.43378368E9|        Asia|                                                       NaN|\n",
      "|31/12/2019| 31|   12|2019|    0|     0|                 Canada|   CA|                 CAN|  3.741104E7|     America|                                                       NaN|\n",
      "+----------+---+-----+----+-----+------+-----------------------+-----+--------------------+------------+------------+----------------------------------------------------------+\n",
      "\n"
     ]
    }
   ],
   "source": [
    "# to-do\n",
    "covidDfSpark.tail(10)\n",
    "spark.sql(\"\"\"SELECT * FROM covid ORDER BY dateRep DESC LIMIT 10\"\"\").show()"
   ]
  },
  {
   "cell_type": "markdown",
   "id": "8f5b6806",
   "metadata": {},
   "source": [
    "<div align=\"right\" dir=\"auto\">\n",
    "اسکیما یا ساختار دیتاست ها را نمایش دهید\n",
    "\n",
    "</div>"
   ]
  },
  {
   "cell_type": "code",
   "execution_count": 198,
   "id": "94b0a54e",
   "metadata": {},
   "outputs": [
    {
     "name": "stdout",
     "output_type": "stream",
     "text": [
      "+--------------------+---------+-------+\n",
      "|            col_name|data_type|comment|\n",
      "+--------------------+---------+-------+\n",
      "|             dateRep|   string|   null|\n",
      "|                 day|      int|   null|\n",
      "|               month|      int|   null|\n",
      "|                year|      int|   null|\n",
      "|               cases|      int|   null|\n",
      "|              deaths|      int|   null|\n",
      "|countriesAndTerri...|   string|   null|\n",
      "|               geoId|   string|   null|\n",
      "|countryterritoryCode|   string|   null|\n",
      "|         popData2019|    float|   null|\n",
      "|        continentExp|   string|   null|\n",
      "|Cumulative_number...|   double|   null|\n",
      "+--------------------+---------+-------+\n",
      "\n"
     ]
    }
   ],
   "source": [
    "# to-do\n",
    "db_name = spark.catalog.currentDatabase()\n",
    "spark.sql(f\"DESCRIBE covid\").show()"
   ]
  },
  {
   "cell_type": "code",
   "execution_count": 199,
   "id": "85b3d351",
   "metadata": {},
   "outputs": [
    {
     "name": "stdout",
     "output_type": "stream",
     "text": [
      "root\n",
      " |-- dateRep: string (nullable = true)\n",
      " |-- day: integer (nullable = true)\n",
      " |-- month: integer (nullable = true)\n",
      " |-- year: integer (nullable = true)\n",
      " |-- cases: integer (nullable = true)\n",
      " |-- deaths: integer (nullable = true)\n",
      " |-- countriesAndTerritories: string (nullable = true)\n",
      " |-- geoId: string (nullable = true)\n",
      " |-- countryterritoryCode: string (nullable = true)\n",
      " |-- popData2019: float (nullable = true)\n",
      " |-- continentExp: string (nullable = true)\n",
      " |-- Cumulative_number_for_14_days_of_COVID-19_cases_per_100000: double (nullable = true)\n",
      "\n"
     ]
    }
   ],
   "source": [
    "covidDfSpark.printSchema()"
   ]
  },
  {
   "cell_type": "markdown",
   "id": "afa99aa2",
   "metadata": {},
   "source": [
    "<div align=\"right\" dir=\"auto\">\n",
    "داده‌های مربوط به ستون   countryterritoryCode ,deaths را پرینت کنید(۱۰تا) \n",
    "\n",
    "</div>"
   ]
  },
  {
   "cell_type": "code",
   "execution_count": 200,
   "id": "9f446d82",
   "metadata": {},
   "outputs": [
    {
     "name": "stdout",
     "output_type": "stream",
     "text": [
      "+------+--------------------+\n",
      "|deaths|countryterritoryCode|\n",
      "+------+--------------------+\n",
      "|     6|                 AFG|\n",
      "|     9|                 AFG|\n",
      "|    11|                 AFG|\n",
      "|    10|                 AFG|\n",
      "|    16|                 AFG|\n",
      "|    13|                 AFG|\n",
      "|     6|                 AFG|\n",
      "|    26|                 AFG|\n",
      "|    10|                 AFG|\n",
      "|    18|                 AFG|\n",
      "+------+--------------------+\n",
      "\n"
     ]
    },
    {
     "name": "stderr",
     "output_type": "stream",
     "text": [
      "2023-12-28 14:00:20,898 WARN scheduler.TaskSetManager: Stage 341 contains a task of very large size (1650 KiB). The maximum recommended task size is 1000 KiB.\n"
     ]
    }
   ],
   "source": [
    "# to-do\n",
    "spark.sql(\"\"\"SELECT deaths, countryterritoryCode FROM covid LIMIT 10\"\"\").show()"
   ]
  },
  {
   "cell_type": "markdown",
   "id": "239dfa87",
   "metadata": {},
   "source": [
    "<div align=\"right\" dir=\"auto\">\n",
    "تعداد کل موارد Covid برابر است با?\n",
    "</div>"
   ]
  },
  {
   "cell_type": "code",
   "execution_count": 201,
   "id": "60c9bfe9",
   "metadata": {},
   "outputs": [
    {
     "name": "stdout",
     "output_type": "stream",
     "text": [
      "+-----------+\n",
      "|sum_of_case|\n",
      "+-----------+\n",
      "|   71503614|\n",
      "+-----------+\n",
      "\n"
     ]
    },
    {
     "name": "stderr",
     "output_type": "stream",
     "text": [
      "2023-12-28 14:00:23,040 WARN scheduler.TaskSetManager: Stage 343 contains a task of very large size (1650 KiB). The maximum recommended task size is 1000 KiB.\n"
     ]
    }
   ],
   "source": [
    "# to-do\n",
    "result = spark.sql(\"SELECT SUM(cases) AS sum_of_case FROM covid\").show()\n"
   ]
  },
  {
   "cell_type": "markdown",
   "id": "b4cce866",
   "metadata": {},
   "source": [
    "<div align=\"right\" dir=\"auto\">\n",
    "مجموع موارد کروناویروس در اکتبر ۲۰۲۰ در بلژیک را به دست آورید.\n",
    "</div>\n",
    "\n"
   ]
  },
  {
   "cell_type": "code",
   "execution_count": 202,
   "id": "4edfe84b",
   "metadata": {},
   "outputs": [
    {
     "name": "stdout",
     "output_type": "stream",
     "text": [
      "+----------+\n",
      "|TotalCases|\n",
      "+----------+\n",
      "|    320023|\n",
      "+----------+\n",
      "\n"
     ]
    },
    {
     "name": "stderr",
     "output_type": "stream",
     "text": [
      "2023-12-28 14:00:25,024 WARN scheduler.TaskSetManager: Stage 345 contains a task of very large size (1650 KiB). The maximum recommended task size is 1000 KiB.\n"
     ]
    }
   ],
   "source": [
    "# to-do\n",
    "result = spark.sql(\"\"\"\n",
    "                    SELECT SUM(cases) AS  TotalCases\n",
    "                    FROM covid\n",
    "                    WHERE countriesAndTerritories = 'Belgium' AND month = 10 AND year = 2020\n",
    "                    \"\"\").show()"
   ]
  },
  {
   "cell_type": "markdown",
   "id": "87cd33b7",
   "metadata": {},
   "source": [
    "\n",
    "<div align=\"right\" dir=\"auto\">\n",
    "جمع تعداد موارد و مرگ‌ها در کشورهای آسیا به دست آورید.\n",
    " \n",
    " </div>\n"
   ]
  },
  {
   "cell_type": "code",
   "execution_count": 211,
   "id": "4369ab1c",
   "metadata": {},
   "outputs": [
    {
     "name": "stderr",
     "output_type": "stream",
     "text": [
      "2023-12-28 14:03:07,965 WARN scheduler.TaskSetManager: Stage 365 contains a task of very large size (1650 KiB). The maximum recommended task size is 1000 KiB.\n"
     ]
    },
    {
     "name": "stdout",
     "output_type": "stream",
     "text": [
      "+-----------------+----------+-----------+\n",
      "|          country|TotalCases|TotalDeaths|\n",
      "+-----------------+----------+-----------+\n",
      "|      Afghanistan|     49273|       1971|\n",
      "|          Bahrain|     89143|        348|\n",
      "|       Bangladesh|    490533|       7052|\n",
      "|           Bhutan|       438|          0|\n",
      "|Brunei_Darussalam|       152|          3|\n",
      "|         Cambodia|       359|          0|\n",
      "|            China|     92021|       4739|\n",
      "|            India|   9884100|     143355|\n",
      "|        Indonesia|    617820|      18819|\n",
      "|             Iran|   1108269|      52196|\n",
      "|             Iraq|    574634|      12579|\n",
      "|           Israel|    357859|       2999|\n",
      "|            Japan|    179653|       2585|\n",
      "|           Jordan|    259614|       3365|\n",
      "|       Kazakhstan|    186277|       2552|\n",
      "|           Kuwait|    146218|        911|\n",
      "|       Kyrgyzstan|     77674|       1312|\n",
      "|             Laos|        41|          0|\n",
      "|          Lebanon|    146520|       1200|\n",
      "|         Malaysia|     83475|        415|\n",
      "+-----------------+----------+-----------+\n",
      "only showing top 20 rows\n",
      "\n"
     ]
    },
    {
     "name": "stderr",
     "output_type": "stream",
     "text": [
      "                                                                                \r"
     ]
    }
   ],
   "source": [
    "# to-do\n",
    "result = spark.sql(\"\"\"\n",
    "                        SELECT \n",
    "                          countriesAndTerritories as country,\n",
    "                          SUM(cases) AS TotalCases,\n",
    "                          SUM(deaths) AS TotalDeaths\n",
    "                          FROM covid\n",
    "                          WHERE  continentExp = 'Asia'\n",
    "                          GROUP BY countriesAndTerritories\n",
    "                          ORDER BY country\"\"\").show()"
   ]
  },
  {
   "cell_type": "markdown",
   "id": "0e0c5240",
   "metadata": {},
   "source": [
    "\n",
    "<div align=\"right\" dir=\"auto\">\n",
    "میانگین تعداد موارد و مرگ‌ها در کشورهای آسیا به دست آورید.\n",
    " \n",
    " </div>\n"
   ]
  },
  {
   "cell_type": "code",
   "execution_count": 210,
   "id": "40e4a0f7",
   "metadata": {},
   "outputs": [
    {
     "name": "stderr",
     "output_type": "stream",
     "text": [
      "2023-12-28 14:02:38,852 WARN scheduler.TaskSetManager: Stage 363 contains a task of very large size (1650 KiB). The maximum recommended task size is 1000 KiB.\n"
     ]
    },
    {
     "name": "stdout",
     "output_type": "stream",
     "text": [
      "+-----------------+------------------+--------------------+\n",
      "|          country|  Average_of_Cases|   Average_of_Deaths|\n",
      "+-----------------+------------------+--------------------+\n",
      "|      Afghanistan| 144.9205882352941|   5.797058823529412|\n",
      "|          Bahrain| 255.4240687679083|   0.997134670487106|\n",
      "|       Bangladesh|1783.7563636363636|  25.643636363636364|\n",
      "|           Bhutan|1.5869565217391304|                 0.0|\n",
      "|Brunei_Darussalam|0.5448028673835126|0.010752688172043012|\n",
      "|         Cambodia|1.0527859237536656|                 0.0|\n",
      "|            China|262.91714285714284|               13.54|\n",
      "|            India|28321.203438395416|  410.75931232091693|\n",
      "|        Indonesia|1801.2244897959183|   54.86588921282799|\n",
      "|             Iran| 3166.482857142857|  149.13142857142856|\n",
      "+-----------------+------------------+--------------------+\n",
      "only showing top 10 rows\n",
      "\n"
     ]
    },
    {
     "name": "stderr",
     "output_type": "stream",
     "text": [
      "                                                                                \r"
     ]
    }
   ],
   "source": [
    "# to-do\n",
    "result = spark.sql(\"\"\"\n",
    "                        SELECT \n",
    "                          countriesAndTerritories as country,\n",
    "                          AVG(cases) AS Average_of_Cases,\n",
    "                          AVG(deaths) AS Average_of_Deaths\n",
    "                          FROM covid\n",
    "                          WHERE  continentExp = 'Asia'\n",
    "                          GROUP BY country ORDER BY country\"\"\").show(10)"
   ]
  },
  {
   "cell_type": "markdown",
   "id": "8ade3d69",
   "metadata": {},
   "source": [
    "\n",
    "<div align=\"right\" dir=\"auto\">\n",
    "جمع مرگ‌های کووید در اروپا بر اساس تاریخ به دست آورید.\n",
    " \n",
    " </div>"
   ]
  },
  {
   "cell_type": "code",
   "execution_count": 212,
   "id": "881487cd",
   "metadata": {},
   "outputs": [
    {
     "name": "stderr",
     "output_type": "stream",
     "text": [
      "2023-12-28 14:03:15,730 WARN scheduler.TaskSetManager: Stage 367 contains a task of very large size (1650 KiB). The maximum recommended task size is 1000 KiB.\n"
     ]
    },
    {
     "name": "stdout",
     "output_type": "stream",
     "text": [
      "+----------+-----------+\n",
      "|   dateRep|TotalDeaths|\n",
      "+----------+-----------+\n",
      "|25/11/2020|       6391|\n",
      "|02/12/2020|       6195|\n",
      "|09/12/2020|       6074|\n",
      "|28/11/2020|       6001|\n",
      "|21/11/2020|       5909|\n",
      "|18/11/2020|       5829|\n",
      "|05/12/2020|       5783|\n",
      "|03/12/2020|       5728|\n",
      "|26/11/2020|       5719|\n",
      "|04/12/2020|       5716|\n",
      "+----------+-----------+\n",
      "only showing top 10 rows\n",
      "\n"
     ]
    },
    {
     "name": "stderr",
     "output_type": "stream",
     "text": [
      "                                                                                \r"
     ]
    }
   ],
   "source": [
    "# to-do\n",
    "result = spark.sql(\"\"\"\n",
    "                        SELECT \n",
    "                          dateRep,\n",
    "                          SUM(deaths) AS TotalDeaths\n",
    "                          FROM covid\n",
    "                          WHERE  continentExp = 'Europe'\n",
    "                          GROUP BY dateRep ORDER BY TotalDeaths DESC\"\"\").show(10)"
   ]
  },
  {
   "cell_type": "markdown",
   "id": "b678ea91",
   "metadata": {},
   "source": [
    "\n",
    "<div align=\"right\" dir=\"auto\">\n",
    "   \n",
    "#  اسپارک toPandas \n",
    "\n",
    "    یکی ار قابلیت‌های اسپارک این است که می‌توان dataframe های آن را به \n",
    "    dataframe های pandas تبدیل کند و از توابع آن از جمله\n",
    "    توابع plot  آن برای رسم نمودار استفاده کرد.\n",
    "    در این قسمت از شما انتظار می‌رود نمودار تعداد جنگ‌ها بر اساس هر گونه را رسم کنید.\n",
    "    \n",
    " </div>\n",
    "  \n",
    "    \n",
    "\n",
    "  \n",
    "[pyspark.sql.DataFrame.toPandas](https://spark.apache.org/docs/latest/api/python/reference/pyspark.sql/api/pyspark.sql.DataFrame.toPandas.html)\n",
    "\n",
    "[pyspark.pandas.DataFrame.plot](https://spark.apache.org/docs/3.2.1/api/python/reference/pyspark.pandas/api/pyspark.pandas.DataFrame.plot.html)\n"
   ]
  },
  {
   "cell_type": "markdown",
   "id": "015be570",
   "metadata": {},
   "source": [
    "\n",
    "<div align=\"right\" dir=\"auto\">\n",
    "جمع موارد و مرگ‌ها برای هر قاره را به دست آورید.\n",
    " \n",
    " </div>"
   ]
  },
  {
   "cell_type": "code",
   "execution_count": 214,
   "id": "8f4b71ca",
   "metadata": {},
   "outputs": [
    {
     "name": "stderr",
     "output_type": "stream",
     "text": [
      "2023-12-28 14:03:47,160 WARN scheduler.TaskSetManager: Stage 377 contains a task of very large size (1650 KiB). The maximum recommended task size is 1000 KiB.\n"
     ]
    },
    {
     "name": "stdout",
     "output_type": "stream",
     "text": [
      "+------------+------+\n",
      "|continentExp| count|\n",
      "+------------+------+\n",
      "|      Europe|479789|\n",
      "|      Africa| 56334|\n",
      "|       Other|     7|\n",
      "|     Oceania|  1154|\n",
      "|        Asia|290129|\n",
      "|     America|785420|\n",
      "+------------+------+\n",
      "\n"
     ]
    },
    {
     "name": "stderr",
     "output_type": "stream",
     "text": [
      "2023-12-28 14:03:48,018 WARN scheduler.TaskSetManager: Stage 387 contains a task of very large size (1650 KiB). The maximum recommended task size is 1000 KiB.\n"
     ]
    },
    {
     "data": {
      "text/plain": [
       "<Axes: ylabel='continentExp'>"
      ]
     },
     "execution_count": 214,
     "metadata": {},
     "output_type": "execute_result"
    },
    {
     "data": {
      "image/png": "[encoded data removed]",
      "text/plain": [
       "<Figure size 640x480 with 1 Axes>"
      ]
     },
     "metadata": {},
     "output_type": "display_data"
    }
   ],
   "source": [
    "# to-do\n",
    "\n",
    "result = spark.sql(\"\"\"\n",
    "                        SELECT \n",
    "                          continentExp,\n",
    "                          SUM(deaths) AS count\n",
    "                          FROM covid\n",
    "                          GROUP BY continentExp\"\"\")\n",
    "result.show()\n",
    "pandaDf = result.toPandas()\n",
    "pandaDf.plot.barh(x='continentExp', y='count')"
   ]
  },
  {
   "cell_type": "markdown",
   "id": "c02bba12",
   "metadata": {},
   "source": [
    "<div align=\"right\" dir=\"auto\">\n",
    "نمودار مبتلایان در طور زمان را برای کشور ایران را بنویسید. \n",
    "    \n",
    " </div>\n",
    "  "
   ]
  },
  {
   "cell_type": "code",
   "execution_count": 213,
   "id": "1b4ee7c9",
   "metadata": {},
   "outputs": [
    {
     "name": "stderr",
     "output_type": "stream",
     "text": [
      "2023-12-28 14:03:34,733 WARN scheduler.TaskSetManager: Stage 369 contains a task of very large size (1650 KiB). The maximum recommended task size is 1000 KiB.\n"
     ]
    },
    {
     "name": "stdout",
     "output_type": "stream",
     "text": [
      "+----------+-----------+\n",
      "|   dateRep|total_cases|\n",
      "+----------+-----------+\n",
      "|04/12/2020|     681109|\n",
      "|05/11/2020|     569890|\n",
      "|23/11/2020|     518260|\n",
      "|02/11/2020|     487232|\n",
      "|28/03/2020|      65192|\n",
      "|19/01/2020|        136|\n",
      "|25/02/2020|        795|\n",
      "|04/01/2020|          0|\n",
      "|07/03/2020|       4120|\n",
      "|08/11/2020|     593273|\n",
      "|15/01/2020|          1|\n",
      "|13/02/2020|      15151|\n",
      "|18/01/2020|         17|\n",
      "|01/03/2020|       1843|\n",
      "|06/01/2020|          0|\n",
      "|17/08/2020|     230261|\n",
      "|05/07/2020|     187773|\n",
      "|24/08/2020|     224243|\n",
      "|04/08/2020|     207322|\n",
      "|07/02/2020|       3218|\n",
      "+----------+-----------+\n",
      "only showing top 20 rows\n",
      "\n"
     ]
    },
    {
     "name": "stderr",
     "output_type": "stream",
     "text": [
      "2023-12-28 14:03:35,066 WARN scheduler.TaskSetManager: Stage 375 contains a task of very large size (1650 KiB). The maximum recommended task size is 1000 KiB.\n"
     ]
    },
    {
     "data": {
      "text/plain": [
       "<Axes: xlabel='dateRep', ylabel='total_cases'>"
      ]
     },
     "execution_count": 213,
     "metadata": {},
     "output_type": "execute_result"
    },
    {
     "data": {
      "image/png": "[encoded data removed]",
      "text/plain": [
       "<Figure size 640x480 with 1 Axes>"
      ]
     },
     "metadata": {},
     "output_type": "display_data"
    }
   ],
   "source": [
    "# to-do \n",
    "import pandas as pd\n",
    "import pyspark.sql as sparksql\n",
    "result = spark.sql(\"\"\"\n",
    "                        SELECT \n",
    "                          dateRep,\n",
    "                          SUM(cases) AS total_cases\n",
    "                          FROM covid\n",
    "                          GROUP BY dateRep\n",
    "                          \"\"\")\n",
    "\n",
    "result.show()\n",
    "pandaDf = result.toPandas()\n",
    "pandaDf.plot.scatter(x='dateRep', y='total_cases')\n"
   ]
  },
  {
   "cell_type": "code",
   "execution_count": 215,
   "id": "c99c0e46",
   "metadata": {},
   "outputs": [
    {
     "ename": "NameError",
     "evalue": "name 'iran_cases_2020' is not defined",
     "output_type": "error",
     "traceback": [
      "\u001b[0;31m---------------------------------------------------------------------------\u001b[0m",
      "\u001b[0;31mNameError\u001b[0m                                 Traceback (most recent call last)",
      "Cell \u001b[0;32mIn[215], line 2\u001b[0m\n\u001b[1;32m      1\u001b[0m \u001b[38;5;66;03m# Assuming you have a DataFrame named covidDfSpark\u001b[39;00m\n\u001b[0;32m----> 2\u001b[0m \u001b[43miran_cases_2020\u001b[49m\u001b[38;5;241m.\u001b[39mselect(\u001b[38;5;124m'\u001b[39m\u001b[38;5;124mdate\u001b[39m\u001b[38;5;124m'\u001b[39m)\u001b[38;5;241m.\u001b[39mshow(\u001b[38;5;241m20\u001b[39m)\n",
      "\u001b[0;31mNameError\u001b[0m: name 'iran_cases_2020' is not defined"
     ]
    }
   ],
   "source": [
    "# Assuming you have a DataFrame named covidDfSpark\n",
    "iran_cases_2020.select('date').show(20)"
   ]
  },
  {
   "cell_type": "markdown",
   "id": "93fb58ff",
   "metadata": {},
   "source": [
    "\n",
    "<div align=\"right\" dir=\"auto\">\n",
    "   \n",
    "#  اسپارک Shuffle \n",
    "\n",
    "    Spark SQL shuffle مکانیزمی است برای توزیع مجدد یا پارتیشن بندی مجدد داده ها به طوری که داده ها به طور متفاوت در پارتیشن ها گروه بندی می شوند، بر اساس اندازه داده شما ممکن است نیاز باشد تعداد پارتیشن های RDD/DataFrame را با استفاده از اسپارک کاهش یا افزایش دهید.\n",
    "    برای مثال وقتی روی دو dataframe مختلف که روی شبکه توزیع شده اند\n",
    "    دستور join را میزنیم یک عملیات \n",
    "    shuffling انجام میشود\n",
    "    در این قسمت از شما انتظار می‌رود کوئری جوین زیر را نوشته و اجرا کنید همچنین به  صفحه \n",
    "    application master ui\n",
    "    مراجعه کنید و نحوه shuffleing را گزارش کنید . \n",
    "     و همچنین توضیح دهید DAG scheduler  در اسپارک چیست ؟\n",
    " </div>\n",
    "  \n",
    "    \n",
    "\n",
    "  \n",
    "[shuffling in standalone cluster](https://medium.com/@rachit1arora/apache-spark-shuffle-service-there-are-more-than-one-options-c1a8e098230e)\n",
    "\n"
   ]
  },
  {
   "cell_type": "markdown",
   "id": "dc0909b8",
   "metadata": {},
   "source": [
    "\n",
    "\n",
    "<div align=\"right\" dir=\"auto\">\n",
    "از desc در PySpark برای مرتب‌سازی نزولی استفاده  کرده و با استفاده از alias یک self-join روی DataFrame covidDfSpark انجام دهید، سپس با گروه‌بندی بر اساس ستون a.continentExp از داده‌های پیوسته، تعداد وقوع‌ها شمرده شده و نتایج نمایش دهید. \n",
    "</div>\n",
    "\n"
   ]
  },
  {
   "cell_type": "code",
   "execution_count": 216,
   "id": "57f172d1",
   "metadata": {},
   "outputs": [
    {
     "name": "stderr",
     "output_type": "stream",
     "text": [
      "2023-12-28 14:04:27,969 WARN scheduler.TaskSetManager: Stage 389 contains a task of very large size (1650 KiB). The maximum recommended task size is 1000 KiB.\n",
      "[Stage 389:==========================================>              (3 + 1) / 4]\r"
     ]
    },
    {
     "name": "stdout",
     "output_type": "stream",
     "text": [
      "+------------+-------------+\n",
      "|continentExp|        count|\n",
      "+------------+-------------+\n",
      "|     America|1911942006700|\n",
      "|      Europe|1324660742800|\n",
      "|        Asia|1038808647400|\n",
      "|      Africa| 147311291300|\n",
      "|     Oceania|   3307936000|\n",
      "|       Other|     43082400|\n",
      "+------------+-------------+\n",
      "\n"
     ]
    },
    {
     "name": "stderr",
     "output_type": "stream",
     "text": [
      "                                                                                \r"
     ]
    }
   ],
   "source": [
    "# to -do\n",
    "from pyspark.sql.functions import col\n",
    "result = spark.sql(\"\"\"\n",
    "                        SELECT \n",
    "                          c1.continentExp,\n",
    "                          SUM(c1.cases) AS count\n",
    "                        FROM covid c1, covid c2\n",
    "                        GROUP BY c1.continentExp\n",
    "                          \"\"\")\n",
    "sorted_df = result.sort(col(\"count\").desc())\n",
    "sorted_df.show()"
   ]
  },
  {
   "cell_type": "code",
   "execution_count": 217,
   "id": "16cb8216",
   "metadata": {},
   "outputs": [],
   "source": [
    "import time\n",
    "\n",
    "epochNow = int(time.time())"
   ]
  },
  {
   "cell_type": "markdown",
   "id": "66138a41",
   "metadata": {},
   "source": [
    "<div align=\"right\" dir=\"auto\">\n",
    "نوشتن یکDataFrame به عنوان یک فایل parquet در HDFS\n",
    " \n",
    " </div>"
   ]
  },
  {
   "cell_type": "code",
   "execution_count": 218,
   "id": "9db1da15",
   "metadata": {},
   "outputs": [
    {
     "name": "stderr",
     "output_type": "stream",
     "text": [
      "2023-12-28 14:10:30,243 WARN scheduler.TaskSetManager: Stage 391 contains a task of very large size (1650 KiB). The maximum recommended task size is 1000 KiB.\n",
      "[Stage 391:>                                                        (0 + 2) / 2]\r"
     ]
    },
    {
     "name": "stdout",
     "output_type": "stream",
     "text": [
      "Covid Dataframe stored in Hadoop.\n"
     ]
    },
    {
     "name": "stderr",
     "output_type": "stream",
     "text": [
      "                                                                                \r"
     ]
    }
   ],
   "source": [
    "covidDfSpark.write.parquet(\"hdfs://namenode:8020/covid/{}_{}.parquet\".format(csvName,epochNow))\n",
    "print(\"Covid Dataframe stored in Hadoop.\")"
   ]
  },
  {
   "cell_type": "code",
   "execution_count": 219,
   "id": "5fbff1f1",
   "metadata": {},
   "outputs": [
    {
     "name": "stdout",
     "output_type": "stream",
     "text": [
      "Covid Dataframe read from Hadoop : \n",
      "+----------+---+-----+----+-----+------+-----------------------+-----+--------------------+-----------+------------+----------------------------------------------------------+\n",
      "|   dateRep|day|month|year|cases|deaths|countriesAndTerritories|geoId|countryterritoryCode|popData2019|continentExp|Cumulative_number_for_14_days_of_COVID-19_cases_per_100000|\n",
      "+----------+---+-----+----+-----+------+-----------------------+-----+--------------------+-----------+------------+----------------------------------------------------------+\n",
      "|08/09/2020|  8|    9|2020|   80|     1|             Kazakhstan|   KZ|                 KAZ|1.8551428E7|        Asia|                                               36.33682539|\n",
      "|07/09/2020|  7|    9|2020|  199|     1|             Kazakhstan|   KZ|                 KAZ|1.8551428E7|        Asia|                                               35.90559174|\n",
      "|06/09/2020|  6|    9|2020|  896|     8|             Kazakhstan|   KZ|                 KAZ|1.8551428E7|        Asia|                                               36.22901698|\n",
      "|05/09/2020|  5|    9|2020|  104|     0|             Kazakhstan|   KZ|                 KAZ|1.8551428E7|        Asia|                                                36.5740039|\n",
      "|04/09/2020|  4|    9|2020|  570|     4|             Kazakhstan|   KZ|                 KAZ|1.8551428E7|        Asia|                                               40.90790208|\n",
      "|03/09/2020|  3|    9|2020|  659|     6|             Kazakhstan|   KZ|                 KAZ|1.8551428E7|        Asia|                                               43.11258411|\n",
      "|02/09/2020|  2|    9|2020|   99|    68|             Kazakhstan|   KZ|                 KAZ|1.8551428E7|        Asia|                                               45.11782058|\n",
      "|01/09/2020|  1|    9|2020|  923|    34|             Kazakhstan|   KZ|                 KAZ|1.8551428E7|        Asia|                                               51.87201762|\n",
      "|31/08/2020| 31|    8|2020|    0|     0|             Kazakhstan|   KZ|                 KAZ|1.8551428E7|        Asia|                                               48.69705987|\n",
      "|30/08/2020| 30|    8|2020|  633|     0|             Kazakhstan|   KZ|                 KAZ|1.8551428E7|        Asia|                                               51.27368093|\n",
      "|29/08/2020| 29|    8|2020| 1422|     0|             Kazakhstan|   KZ|                 KAZ|1.8551428E7|        Asia|                                               55.30032513|\n",
      "|28/08/2020| 28|    8|2020|  954|     0|             Kazakhstan|   KZ|                 KAZ|1.8551428E7|        Asia|                                               54.46480993|\n",
      "|27/08/2020| 27|    8|2020|  202|     0|             Kazakhstan|   KZ|                 KAZ|1.8551428E7|        Asia|                                               56.92284173|\n",
      "|26/08/2020| 26|    8|2020|    0|     0|             Kazakhstan|   KZ|                 KAZ|1.8551428E7|        Asia|                                               63.86031307|\n",
      "|25/08/2020| 25|    8|2020|    0|   108|             Kazakhstan|   KZ|                 KAZ|1.8551428E7|        Asia|                                               75.25566226|\n",
      "|24/08/2020| 24|    8|2020|  259|     2|             Kazakhstan|   KZ|                 KAZ|1.8551428E7|        Asia|                                               79.45479992|\n",
      "|23/08/2020| 23|    8|2020|  960|     8|             Kazakhstan|   KZ|                 KAZ|1.8551428E7|        Asia|                                               82.91005954|\n",
      "|22/08/2020| 22|    8|2020|  908|     5|             Kazakhstan|   KZ|                 KAZ|1.8551428E7|        Asia|                                               87.88541777|\n",
      "|21/08/2020| 21|    8|2020|  979|     6|             Kazakhstan|   KZ|                 KAZ|1.8551428E7|        Asia|                                               93.82027087|\n",
      "|20/08/2020| 20|    8|2020| 1031|     6|             Kazakhstan|   KZ|                 KAZ|1.8551428E7|        Asia|                                              101.50162025|\n",
      "+----------+---+-----+----+-----+------+-----------------------+-----+--------------------+-----------+------------+----------------------------------------------------------+\n",
      "only showing top 20 rows\n",
      "\n"
     ]
    }
   ],
   "source": [
    "# Read from HDFS to confirm it was successfully stored\n",
    "\n",
    "df_load = spark.read.parquet(\"hdfs://namenode:8020/covid/{}_{}.parquet\".format(csvName,epochNow))\n",
    "print(\"Covid Dataframe read from Hadoop : \")\n",
    "df_load.show()"
   ]
  },
  {
   "cell_type": "markdown",
   "id": "8e8f5a51",
   "metadata": {},
   "source": [
    "\n",
    "<div align=\"right\" dir=\"auto\">\n",
    "   \n",
    "#  دیتاست دوم(پترن‌های باکتری Ecoli)\n",
    " </div>\n",
    "  "
   ]
  },
  {
   "cell_type": "code",
   "execution_count": 220,
   "id": "8db8146a",
   "metadata": {},
   "outputs": [],
   "source": [
    "# Create a new SparkSession\n",
    "spark2 = SparkSession.builder.appName('spark-notebook-2').master('spark://spark-master:7077').getOrCreate()\n",
    "\n",
    "# Create the schema\n",
    "schema = StructType([\n",
    "    StructField(\"0\", StringType(), True)])"
   ]
  },
  {
   "cell_type": "code",
   "execution_count": 221,
   "id": "eb9d3b5d",
   "metadata": {},
   "outputs": [
    {
     "name": "stdout",
     "output_type": "stream",
     "text": [
      "Loading data from text file: ./data/ecoli.txt\n",
      "Loading data from text file: ./data/.ipynb_checkpoints/ecoli-checkpoint.txt\n"
     ]
    }
   ],
   "source": [
    "# The data from covid.csv will be loaded from a local file path\n",
    "for path, subdirs, files in os.walk('./data/'):\n",
    "    for name in files:\n",
    "        if \"ecoli\" in name and name.endswith(\".txt\"):\n",
    "            txtPath = os.path.join(path, name)\n",
    "            print(\"Loading data from text file: {}\".format(txtPath))\n",
    "            # Load the ecoli.txt file\n",
    "            lines_txt = pandas.read_csv(txtPath)"
   ]
  },
  {
   "cell_type": "code",
   "execution_count": 222,
   "id": "9e325870",
   "metadata": {},
   "outputs": [],
   "source": [
    "# Create a new SparkSession\n",
    "spark2 = SparkSession.builder.appName('spark-notebook-2').master('spark://spark-master:7077').getOrCreate()\n",
    "\n",
    "# Create the schema\n",
    "schema = StructType([StructField(\"0\", StringType(), True)])"
   ]
  },
  {
   "cell_type": "code",
   "execution_count": 223,
   "id": "c86ae7f9",
   "metadata": {},
   "outputs": [
    {
     "name": "stdout",
     "output_type": "stream",
     "text": [
      "+--------------------+\n",
      "|                   0|\n",
      "+--------------------+\n",
      "|TTCTGAACTGGTTACCT...|\n",
      "|TATAGGCATAGCGCACA...|\n",
      "|ATTACCACCACCATCAC...|\n",
      "|CCCGCACCTGACAGTGC...|\n",
      "|GTTCGGCGGTACATCAG...|\n",
      "|AGGCAGGGGCAGGTGGC...|\n",
      "|AAAAAACCATTAGCGGC...|\n",
      "|GACGGGACTCGCCGCCG...|\n",
      "|GCCCAAATAAAACATGT...|\n",
      "|TGATTTGCCGTGGCGAG...|\n",
      "+--------------------+\n",
      "only showing top 10 rows\n",
      "\n"
     ]
    },
    {
     "name": "stderr",
     "output_type": "stream",
     "text": [
      "2023-12-28 14:10:52,179 WARN scheduler.TaskSetManager: Stage 394 contains a task of very large size (2405 KiB). The maximum recommended task size is 1000 KiB.\n"
     ]
    }
   ],
   "source": [
    "lines_sp = spark2.createDataFrame(lines_txt, schema=schema)\n",
    "# Preview the structure\n",
    "lines_sp.show(10)"
   ]
  },
  {
   "cell_type": "markdown",
   "id": "82a5a5b7",
   "metadata": {},
   "source": [
    "<div align=\"right\" dir=\"auto\">\n",
    "   \n",
    "#  اسپارک RDD \n",
    "\n",
    "    \n",
    " </div>\n",
    "  "
   ]
  },
  {
   "cell_type": "markdown",
   "id": "72657636",
   "metadata": {},
   "source": [
    "<div align=\"right\" dir=\"auto\">\n",
    "DataFrame را به RDD تبدیل کنید.\n",
    " </div>"
   ]
  },
  {
   "cell_type": "code",
   "execution_count": 224,
   "id": "2e0b6386",
   "metadata": {},
   "outputs": [],
   "source": [
    "# to-do\n",
    "lines_rdd=lines_sp.rdd"
   ]
  },
  {
   "cell_type": "code",
   "execution_count": 225,
   "id": "0d0702fd",
   "metadata": {},
   "outputs": [
    {
     "name": "stderr",
     "output_type": "stream",
     "text": [
      "2023-12-28 14:10:56,226 WARN scheduler.TaskSetManager: Stage 395 contains a task of very large size (2405 KiB). The maximum recommended task size is 1000 KiB.\n"
     ]
    },
    {
     "data": {
      "text/plain": [
       "['TTCTGAACTGGTTACCTGCCGTGAGTAAATTAAAATTTTATTGACTTAGGTCACTAAATACTTTAACCAA',\n",
       " 'TATAGGCATAGCGCACAGACAGATAAAAATTACAGAGTACACAACATCCATGAAACGCATTAGCACCACC',\n",
       " 'ATTACCACCACCATCACCATTACCACAGGTAACGGTGCGGGCTGACGCGTACAGGAAACACAGAAAAAAG',\n",
       " 'CCCGCACCTGACAGTGCGGGCTTTTTTTTTCGACCAAAGGTAACGAGGTAACAACCATGCGAGTGTTGAA',\n",
       " 'GTTCGGCGGTACATCAGTGGCAAATGCAGAACGTTTTCTGCGTGTTGCCGATATTCTGGAAAGCAATGCC']"
      ]
     },
     "execution_count": 225,
     "metadata": {},
     "output_type": "execute_result"
    }
   ],
   "source": [
    "# Define the lengths for patterns (3 and 4)\n",
    "pattern_lengths = [3, 4]\n",
    "lines_rdd = lines_rdd.map(lambda row: row[0])\n",
    "lines_rdd.take(5)"
   ]
  },
  {
   "cell_type": "code",
   "execution_count": 226,
   "id": "e0bfe1a3",
   "metadata": {},
   "outputs": [],
   "source": [
    "def line_to_grams(line, length):\n",
    "    ngrams = []\n",
    "    for i in range(len(line) - length + 1):\n",
    "        ngrams.append(line[i : i + length])\n",
    "    return ngrams\n",
    "\n",
    "pattern_lengths = [3, 4]"
   ]
  },
  {
   "cell_type": "markdown",
   "id": "64931bcf",
   "metadata": {},
   "source": [
    "<div align=\"right\" dir=\"auto\">\n",
    "ایجاد RDD برای هر طول الگو (n-gram):\n",
    " \n",
    "ابتدا یک لیست از RDDهای n-gramها برای هر طول الگو (pattern length) ایجاد کرده.\n",
    "برای هر طول الگو، با استفاده از flatMap بر روی هر خط موجود در مجموعه داده (lines_rdd)، n-gramهای مربوط به طول الگو مورد نظر را ایجاد کرده و به لیستی از RDDها اضافه کنید.\n",
    " </div>\n",
    "  "
   ]
  },
  {
   "cell_type": "code",
   "execution_count": 227,
   "id": "0915f17d",
   "metadata": {},
   "outputs": [
    {
     "name": "stderr",
     "output_type": "stream",
     "text": [
      "2023-12-28 14:11:01,032 WARN scheduler.TaskSetManager: Stage 396 contains a task of very large size (2405 KiB). The maximum recommended task size is 1000 KiB.\n"
     ]
    },
    {
     "data": {
      "text/plain": [
       "['TTCT', 'TCTG', 'CTGA', 'TGAA', 'GAAC']"
      ]
     },
     "execution_count": 227,
     "metadata": {},
     "output_type": "execute_result"
    }
   ],
   "source": [
    "ngrams_rdds = []\n",
    "for length in pattern_lengths:\n",
    "    ngrams_rdds.append(lines_rdd.flatMap(lambda x: line_to_grams(x, length)))\n",
    "ngrams_rdds[0].take(5)"
   ]
  },
  {
   "cell_type": "markdown",
   "id": "7eeaded1",
   "metadata": {},
   "source": [
    "\n",
    "<div align=\"right\" dir=\"auto\">\n",
    " محاسبه تعداد n-gramها:\n",
    "سپس، برای هر RDD حاصل از مرحله قبل، تعداد تکرارهای هر n-gram را محاسبه کرده.\n",
    "این کار با استفاده از map و reduceByKey بر روی هر n-gram، جفت‌هایی از (n-gram, تعداد تکرار) را ایجاد کرده و سپس نتایج را به یک لیست از RDDها اضافه کرده.\n",
    "در نهایت، دو RDD ایجاد شده داده‌های مربوط به هر طول الگو را در اختیار دارند.\n",
    "     </div>"
   ]
  },
  {
   "cell_type": "code",
   "execution_count": 228,
   "id": "0e16b276",
   "metadata": {},
   "outputs": [
    {
     "name": "stderr",
     "output_type": "stream",
     "text": [
      "2023-12-28 14:11:02,348 WARN scheduler.TaskSetManager: Stage 397 contains a task of very large size (2405 KiB). The maximum recommended task size is 1000 KiB.\n",
      "2023-12-28 14:11:04,840 WARN scheduler.TaskSetManager: Stage 399 contains a task of very large size (2405 KiB). The maximum recommended task size is 1000 KiB.\n",
      "                                                                                \r"
     ]
    },
    {
     "data": {
      "text/plain": [
       "[MapPartitionsRDD[742] at javaToPython at NativeMethodAccessorImpl.java:0,\n",
       " MapPartitionsRDD[755] at javaToPython at NativeMethodAccessorImpl.java:0]"
      ]
     },
     "execution_count": 228,
     "metadata": {},
     "output_type": "execute_result"
    }
   ],
   "source": [
    "from operator import add\n",
    "\n",
    "count_rdds = []\n",
    "for ngrams_rdd, length in zip(ngrams_rdds, pattern_lengths):\n",
    "    count_rdds.append(spark.createDataFrame(ngrams_rdd.map(lambda x: (x, 1)).reduceByKey(add)).rdd)\n",
    "    \n",
    "count_rdds "
   ]
  },
  {
   "cell_type": "code",
   "execution_count": 229,
   "id": "e6b15df1",
   "metadata": {},
   "outputs": [],
   "source": [
    "merged_rdd = count_rdds[0].union(count_rdds[1])\n",
    "dna_patterns = merged_rdd.sortByKey(ascending=False).map(lambda x: f\"{x[1]} {x[0]}\")"
   ]
  },
  {
   "cell_type": "code",
   "execution_count": 244,
   "id": "89291f48",
   "metadata": {},
   "outputs": [
    {
     "data": {
      "text/plain": [
       "['34049 TTTT',\n",
       " '23436 TTTG',\n",
       " '26181 TTTC',\n",
       " '21450 TTTA',\n",
       " '106672 TTT',\n",
       " '15951 TTGT',\n",
       " '13013 TTGG',\n",
       " '26131 TTGC',\n",
       " '18546 TTGA',\n",
       " '74786 TTG']"
      ]
     },
     "execution_count": 244,
     "metadata": {},
     "output_type": "execute_result"
    }
   ],
   "source": [
    "dna_patterns.take(10)"
   ]
  },
  {
   "cell_type": "code",
   "execution_count": 256,
   "id": "d3400d7a",
   "metadata": {},
   "outputs": [
    {
     "data": {
      "text/plain": [
       "PythonRDD[843] at RDD at PythonRDD.scala:53"
      ]
     },
     "execution_count": 256,
     "metadata": {},
     "output_type": "execute_result"
    }
   ],
   "source": [
    "# Split each string into two columns (ngram and count) using space as the delimiter\n",
    "split_rdd = dna_patterns.map(lambda line: line.split())\n",
    "\n",
    "# Create a DataFrame from the RDD with column names\n",
    "columns = [\"pattern\", \"count\"]\n",
    "df = spark2.createDataFrame(split_rdd, columns)\n",
    "split_rdd"
   ]
  },
  {
   "cell_type": "code",
   "execution_count": 257,
   "id": "6e8f4141",
   "metadata": {},
   "outputs": [
    {
     "name": "stdout",
     "output_type": "stream",
     "text": [
      "+-------+-----+\n",
      "|pattern|count|\n",
      "+-------+-----+\n",
      "|  34049| TTTT|\n",
      "|  23436| TTTG|\n",
      "|  26181| TTTC|\n",
      "|  21450| TTTA|\n",
      "| 106672|  TTT|\n",
      "|  15951| TTGT|\n",
      "|  13013| TTGG|\n",
      "|  26131| TTGC|\n",
      "|  18546| TTGA|\n",
      "|  74786|  TTG|\n",
      "+-------+-----+\n",
      "only showing top 10 rows\n",
      "\n"
     ]
    }
   ],
   "source": [
    "df.show(10)"
   ]
  },
  {
   "cell_type": "markdown",
   "id": "ee565830",
   "metadata": {},
   "source": [
    "\n",
    "<div align=\"right\" dir=\"auto\">\n",
    "   \n",
    "# تابع تعریف شده توسط کاربر(UDF)\n",
    "\n",
    "یکی از مزایای اسپارک این است که نه تنها برای ما یک زبان SQL فراهم کرده که روی چندین سرور به صورت همزمان پردازش را انجام دهد بلکه \n",
    "    میتوان به زبان‌های مختلف توابعی تعریف کرد که روی  همه executor ها اجرا شود   در این بخش از شما انتظار می‌رود که با نوشتن یک UDF به زبان پایتونی    توضیحات  قسمت  قبل را انجام دهید.\n",
    "\n",
    " </div>\n",
    " \n",
    "[pyspark.sql.functions.udf](https://spark.apache.org/docs/3.1.3/api/python/reference/api/pyspark.sql.functions.udf.html)\n",
    "\n",
    "[pyspark.sql.DataFrame.withColumn](https://spark.apache.org/docs/3.1.3/api/python/reference/api/pyspark.sql.DataFrame.withColumn.html)\n",
    "\n",
    "    \n",
    "\n"
   ]
  },
  {
   "cell_type": "code",
   "execution_count": 267,
   "id": "797f1c13",
   "metadata": {},
   "outputs": [],
   "source": [
    "def split_string(line):\n",
    "    parts = line.split()  # Splitting assuming space as delimiter\n",
    "    return int(parts[0]), parts[1] if len(parts) > 1 else None"
   ]
  },
  {
   "cell_type": "code",
   "execution_count": 273,
   "id": "59b3142d",
   "metadata": {},
   "outputs": [
    {
     "name": "stdout",
     "output_type": "stream",
     "text": [
      "+-------+------+\n",
      "|pattern| count|\n",
      "+-------+------+\n",
      "|   TTTT| 34049|\n",
      "|   TTTG| 23436|\n",
      "|   TTTC| 26181|\n",
      "|   TTTA| 21450|\n",
      "|    TTT|106672|\n",
      "|   TTGT| 15951|\n",
      "|   TTGG| 13013|\n",
      "|   TTGC| 26131|\n",
      "|   TTGA| 18546|\n",
      "|    TTG| 74786|\n",
      "+-------+------+\n",
      "only showing top 10 rows\n",
      "\n"
     ]
    }
   ],
   "source": [
    "from pyspark.sql.functions import col\n",
    "from pyspark.sql.functions import udf\n",
    "from pyspark.sql import  Row\n",
    "\n",
    "\n",
    "# Define the UDF to split the string into two columns\n",
    "# to-do\n",
    "schema = StructType([\n",
    "    StructField(\"count\", IntegerType(), False),\n",
    "    StructField(\"pattern\", StringType(), False)\n",
    "])\n",
    "splitUDF = udf(lambda z: split_string(z), schema)\n",
    "\n",
    "# Apply the UDF to create separate columns\n",
    "columns = [\"pair\",]\n",
    "dnaDf = dna_patterns.map(Row).toDF(schema=columns)\n",
    "df_with_split = dnaDf.withColumn(\"split_result\", splitUDF(col(\"pair\"))).drop(\"pair\")\n",
    "df_with_split = df_with_split.withColumn(\"pattern\", df_with_split[\"split_result.pattern\"]) \\\n",
    "                            .withColumn(\"count\", df_with_split[\"split_result.count\"]) \\\n",
    "                            .drop(\"split_result\")\n",
    "\n",
    "# Show the resulting DataFrame\n",
    "df_with_split.show(10)"
   ]
  },
  {
   "cell_type": "code",
   "execution_count": null,
   "id": "30e12099",
   "metadata": {},
   "outputs": [],
   "source": []
  },
  {
   "cell_type": "code",
   "execution_count": 193,
   "id": "66cd7600",
   "metadata": {},
   "outputs": [
    {
     "name": "stdout",
     "output_type": "stream",
     "text": [
      "Loading data from csv ./data/graph-cze.csv\n"
     ]
    },
    {
     "data": {
      "text/html": [
       "<div>\n",
       "<style scoped>\n",
       "    .dataframe tbody tr th:only-of-type {\n",
       "        vertical-align: middle;\n",
       "    }\n",
       "\n",
       "    .dataframe tbody tr th {\n",
       "        vertical-align: top;\n",
       "    }\n",
       "\n",
       "    .dataframe thead th {\n",
       "        text-align: right;\n",
       "    }\n",
       "</style>\n",
       "<table border=\"1\" class=\"dataframe\">\n",
       "  <thead>\n",
       "    <tr style=\"text-align: right;\">\n",
       "      <th></th>\n",
       "      <th>id1</th>\n",
       "      <th>id2</th>\n",
       "      <th>dist</th>\n",
       "      <th>edge_id</th>\n",
       "    </tr>\n",
       "  </thead>\n",
       "  <tbody>\n",
       "    <tr>\n",
       "      <th>0</th>\n",
       "      <td>31525683</td>\n",
       "      <td>31525685</td>\n",
       "      <td>516</td>\n",
       "      <td>40151122</td>\n",
       "    </tr>\n",
       "    <tr>\n",
       "      <th>1</th>\n",
       "      <td>31525683</td>\n",
       "      <td>31525688</td>\n",
       "      <td>321</td>\n",
       "      <td>40151120</td>\n",
       "    </tr>\n",
       "    <tr>\n",
       "      <th>2</th>\n",
       "      <td>31525684</td>\n",
       "      <td>31525692</td>\n",
       "      <td>698</td>\n",
       "      <td>40156758</td>\n",
       "    </tr>\n",
       "    <tr>\n",
       "      <th>3</th>\n",
       "      <td>31525685</td>\n",
       "      <td>31525683</td>\n",
       "      <td>516</td>\n",
       "      <td>40151123</td>\n",
       "    </tr>\n",
       "    <tr>\n",
       "      <th>4</th>\n",
       "      <td>31525685</td>\n",
       "      <td>31525686</td>\n",
       "      <td>9</td>\n",
       "      <td>40151124</td>\n",
       "    </tr>\n",
       "    <tr>\n",
       "      <th>...</th>\n",
       "      <td>...</td>\n",
       "      <td>...</td>\n",
       "      <td>...</td>\n",
       "      <td>...</td>\n",
       "    </tr>\n",
       "    <tr>\n",
       "      <th>2287913</th>\n",
       "      <td>32495067</td>\n",
       "      <td>32495062</td>\n",
       "      <td>94</td>\n",
       "      <td>40389868</td>\n",
       "    </tr>\n",
       "    <tr>\n",
       "      <th>2287914</th>\n",
       "      <td>32495068</td>\n",
       "      <td>32495022</td>\n",
       "      <td>520</td>\n",
       "      <td>41069839</td>\n",
       "    </tr>\n",
       "    <tr>\n",
       "      <th>2287915</th>\n",
       "      <td>32495069</td>\n",
       "      <td>32495033</td>\n",
       "      <td>326</td>\n",
       "      <td>40389752</td>\n",
       "    </tr>\n",
       "    <tr>\n",
       "      <th>2287916</th>\n",
       "      <td>32495070</td>\n",
       "      <td>32495043</td>\n",
       "      <td>251</td>\n",
       "      <td>40389751</td>\n",
       "    </tr>\n",
       "    <tr>\n",
       "      <th>2287917</th>\n",
       "      <td>32495071</td>\n",
       "      <td>32494971</td>\n",
       "      <td>1253</td>\n",
       "      <td>42012745</td>\n",
       "    </tr>\n",
       "  </tbody>\n",
       "</table>\n",
       "<p>2287918 rows × 4 columns</p>\n",
       "</div>"
      ],
      "text/plain": [
       "              id1       id2  dist   edge_id\n",
       "0        31525683  31525685   516  40151122\n",
       "1        31525683  31525688   321  40151120\n",
       "2        31525684  31525692   698  40156758\n",
       "3        31525685  31525683   516  40151123\n",
       "4        31525685  31525686     9  40151124\n",
       "...           ...       ...   ...       ...\n",
       "2287913  32495067  32495062    94  40389868\n",
       "2287914  32495068  32495022   520  41069839\n",
       "2287915  32495069  32495033   326  40389752\n",
       "2287916  32495070  32495043   251  40389751\n",
       "2287917  32495071  32494971  1253  42012745\n",
       "\n",
       "[2287918 rows x 4 columns]"
      ]
     },
     "execution_count": 193,
     "metadata": {},
     "output_type": "execute_result"
    }
   ],
   "source": [
    "# Read the input data into a DataFrame\n",
    "for path, subdirs, files in os.walk('./data'):\n",
    "    for name in files:\n",
    "        if \"graph-cze.csv\" in name:\n",
    "            csvName = name\n",
    "            csvPath = os.path.join(path, name)\n",
    "            print(\"Loading data from csv {}\".format(csvPath))\n",
    "            graphDfPandas = pandas.read_csv(csvPath, delimiter=';')\n",
    "graphDfPandas"
   ]
  },
  {
   "cell_type": "code",
   "execution_count": 194,
   "id": "66fb6bb6",
   "metadata": {},
   "outputs": [],
   "source": [
    "# Structure of data in the DataFrame\n",
    "schema = StructType([\n",
    "    StructField(\"id1\", IntegerType(), True),\n",
    "    StructField(\"id2\", IntegerType(), True),\n",
    "    StructField(\"dist\", IntegerType(), True),\n",
    "    StructField(\"edge_id\", IntegerType(), True)\n",
    "])\n",
    "spark3 = SparkSession.builder.appName('dijkstra').master('spark://spark-master:7077').getOrCreate()"
   ]
  },
  {
   "cell_type": "code",
   "execution_count": 196,
   "id": "da721d0f",
   "metadata": {},
   "outputs": [
    {
     "data": {
      "text/plain": [
       "[('spark.driver.host', '267ff4c7069e'),\n",
       " ('spark.app.startTime', '1704030216032'),\n",
       " ('spark.executor.id', 'driver'),\n",
       " ('spark.executor.memmory', '2G'),\n",
       " ('spark.driver.port', '45635'),\n",
       " ('spark.app.id', 'app-20231231134336-0005'),\n",
       " ('spark.rdd.compress', 'True'),\n",
       " ('spark.sql.warehouse.dir', 'file:/workspace/spark-warehouse/'),\n",
       " ('spark.master', 'spark://spark-master:7077'),\n",
       " ('spark.serializer.objectStreamReset', '100'),\n",
       " ('spark.app.name', 'dijkstra'),\n",
       " ('spark.submit.pyFiles', ''),\n",
       " ('spark.submit.deployMode', 'client'),\n",
       " ('spark.ui.showConsoleProgress', 'true')]"
      ]
     },
     "execution_count": 196,
     "metadata": {},
     "output_type": "execute_result"
    }
   ],
   "source": [
    "# id1;id2;dist;edge_id\n",
    "# 31525683;31525685;516;40151122\n",
    "# 31525683;31525688;321;40151120\n",
    "spark3.conf.set(\"spark.iopub_data_rate_limit\", \"1.0e10\")\n",
    "sc = spark3.sparkContext\n",
    "sc.getConf().getAll()\n"
   ]
  },
  {
   "cell_type": "code",
   "execution_count": 197,
   "id": "b2a98238",
   "metadata": {},
   "outputs": [],
   "source": [
    "# Convert Pandas DataFrame to Spark DataFrame with defined schema\n",
    "graphDfSpark = spark3.createDataFrame(graphDfPandas.values.tolist(), schema=schema)"
   ]
  },
  {
   "cell_type": "code",
   "execution_count": 198,
   "id": "72e010f7",
   "metadata": {},
   "outputs": [],
   "source": [
    "graphDfSpark.registerTempTable(\"graph\")"
   ]
  },
  {
   "cell_type": "code",
   "execution_count": 200,
   "id": "593899d6",
   "metadata": {},
   "outputs": [],
   "source": [
    "# dijkstra = Dijsktra()\n",
    "query = \"\"\"\n",
    "    SELECT DISTINCT id1\n",
    "    FROM graph ORDER BY id1\n",
    "\"\"\"\n",
    "unique_values = spark3.sql(query)\n",
    "nodes_name = [row.id1 for row in unique_values.collect()]"
   ]
  },
  {
   "cell_type": "code",
   "execution_count": 202,
   "id": "4162e023",
   "metadata": {},
   "outputs": [],
   "source": [
    "print(nodes_name[0:10])"
   ]
  },
  {
   "cell_type": "code",
   "execution_count": 202,
   "id": "a9ec9908",
   "metadata": {},
   "outputs": [
    {
     "name": "stdout",
     "output_type": "stream",
     "text": [
      "[31525683, 31525684, 31525685, 31525686, 31525687, 31525688, 31525689, 31525690, 31525691, 31525692]\n"
     ]
    }
   ],
   "source": [
    "for name in nodes_name:\n",
    "    query = \"\"\"\n",
    "    SELECT \"\"\""
   ]
  },
  {
   "cell_type": "code",
   "execution_count": null,
   "id": "9b248d6b",
   "metadata": {},
   "outputs": [],
   "source": [
    "from mrjob.job import MRJob\n",
    "from mrjob.step import MRStep\n",
    "from mrjob.protocol import RawProtocol\n",
    "\n",
    "import re\n",
    "\n",
    "class Node:\n",
    "    def __init__(self, name: str, distance: float, neighbors: dict):\n",
    "        self.name = name\n",
    "        self.distance = distance\n",
    "        self.neighbors = neighbors\n",
    "\n",
    "WORD_RE = re.compile(r\"[\\w']+\")\n",
    "\n",
    "class Dijkstra(MRJob):\n",
    "    OUTPUT_PROTOCOL = RawProtocol\n",
    "\n",
    "    \n",
    "    def spark(self, input_path, output_path):\n",
    "        sc = spark3.sparkContext\n",
    "        lines = sc.textFile(input_path)\n",
    "        counts = (\n",
    "            lines.flatMap(self.get_words)\n",
    "            .map(lambda word: (word, 1))\n",
    "            .reduceByKey(add))\n",
    "        counts.saveAsTextFile(output_path)\n",
    "        sc.stop()\n",
    "    \n",
    "    def mapper(self, _, line):\n",
    "        node_name, values = line.split(':', 1)\n",
    "        node_name = node_name.strip()\n",
    "        values = eval(values.strip()) \n",
    "        node = Node(node_name, float(values['Distance']), values['AdjacencyList'])\n",
    "        if node.distance != float(\"inf\"):\n",
    "            for n, w in node.neighbors.items():\n",
    "                yield (n, w + node.distance)\n",
    "        yield (node_name, [node.distance, str(node.neighbors)])\n",
    "\n",
    "    def reducer(self, node_name, values):\n",
    "        neighbors = \"\"\n",
    "        min_distance = float('inf')\n",
    "        for value in values:\n",
    "            if isinstance(value, list):\n",
    "                min_distance = min(value[0], min_distance)\n",
    "                neighbors = value[1]\n",
    "            else:\n",
    "                min_distance = min(value, min_distance)\n",
    "        yield f\"{node_name}:\", \"{{\\\"Distance\\\": float(\\\"{}\\\"), \\\"AdjacencyList\\\": {}}}\"\\\n",
    "               .format(min_distance, neighbors)\n",
    "\n",
    "    def steps(self):\n",
    "        return [\n",
    "            MRStep(mapper=self.mapper,\n",
    "                   reducer=self.reducer),\n",
    "        ]\n",
    "if __name__ == \"__main__\":\n",
    "    Dijkstra.run()"
   ]
  }
 ],
 "metadata": {
  "kernelspec": {
   "display_name": "Python 3 (ipykernel)",
   "language": "python",
   "name": "python3"
  },
  "language_info": {
   "codemirror_mode": {
    "name": "ipython",
    "version": 3
   },
   "file_extension": ".py",
   "mimetype": "text/x-python",
   "name": "python",
   "nbconvert_exporter": "python",
   "pygments_lexer": "ipython3",
   "version": "3.8.10"
  }
 },
 "nbformat": 4,
 "nbformat_minor": 5
}
